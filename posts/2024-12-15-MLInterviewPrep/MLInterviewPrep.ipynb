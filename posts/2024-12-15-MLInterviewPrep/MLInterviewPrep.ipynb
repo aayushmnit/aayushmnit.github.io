{
 "cells": [
  {
   "cell_type": "markdown",
   "metadata": {},
   "source": [
    "---\n",
    "title: Meta MLE Interview Preparation Guide\n",
    "author: Aayush Agrawal\n",
    "date: \"2024-12-15\"\n",
    "categories: [ML Interview Guide]\n",
    "image: \"ml_interview_guide.jpg\"\n",
    "format:\n",
    "    html:\n",
    "        code-fold: false\n",
    "        number-sections: true     \n",
    "---"
   ]
  },
  {
   "cell_type": "markdown",
   "metadata": {},
   "source": [
    "> A collection of resources while preparing for MLE interviews at Meta or other big tech companies."
   ]
  },
  {
   "cell_type": "markdown",
   "metadata": {},
   "source": [
    ":::{.callout-warning collapse=\"false\"} \n",
    "\n",
    "# Disclaimer\n",
    "\n",
    "The views expressed in this blog are solely my own and are not affiliated with my employer in any way. In writing this, I have not utilized any proprietary or confidential information. Instead, I have relied entirely on publicly available resources that were instrumental in my preparation for interviews at Meta.\n",
    "\n",
    ":::"
   ]
  },
  {
   "cell_type": "markdown",
   "metadata": {},
   "source": [
    "**Blog Resources:**  [MLE Interview Prep Template](https://1drv.ms/x/s!Auv3QGqB_NJSgqU4LhOUJtTcV44WjQ). This resource contains a template to track your coding questions, ML system design notes, and a list of questions to prepare for behavioral interviews. "
   ]
  },
  {
   "cell_type": "markdown",
   "metadata": {},
   "source": [
    "Not long ago, I transitioned from a Senior ML Scientist role at Microsoft to a Machine Learning Engineer position at Meta, and the journey was anything but quick. The preparation process was extensive, especially since it was my first experience with LeetCode-style coding interviews and ML system design interviews. While there are many resources available for preparation, I’ll be sharing the ones that helped me navigate and succeed in this challenging process."
   ]
  },
  {
   "cell_type": "markdown",
   "metadata": {
    "ExecuteTime": {
     "end_time": "2023-05-20T21:14:42.776770Z",
     "start_time": "2023-05-20T21:14:42.773594Z"
    }
   },
   "source": [
    "<figure align = \"center\">\n",
    "    <img src=\"./ml_interview_guide.jpg\" style=\"width:100%\">\n",
    "<figcaption align = \"center\">\n",
    "</figcaption>\n",
    "</figure>"
   ]
  },
  {
   "cell_type": "markdown",
   "metadata": {},
   "source": [
    "I will try to cover the following -\n",
    "\n",
    "1.\t**Interview Process Overview**: Break down the entire interview process, from initial screenings to the final onsite interviews, and share tips on what to expect at each stage.\n",
    "\n",
    "2.\t**Coding Interviews**: Dive into the LeetCode-style coding interviews, how I prepared for them, and the strategies that worked best for me.\n",
    "\n",
    "3.\t**ML System Design Interviews**: Explore the ML system design interviews, offering insights into the key concepts you need to know, how to approach open-ended design problems, and the resources that helped me build a strong foundation.\n",
    "\n",
    "4.\t**Behavioral Interviews**: Finally, I’ll talk about the behavioral interviews, and how I prepared to effectively communicate my past work and problem-solving approach.\n"
   ]
  },
  {
   "cell_type": "markdown",
   "metadata": {},
   "source": [
    "# Interview Process Overview"
   ]
  },
  {
   "cell_type": "markdown",
   "metadata": {
    "ExecuteTime": {
     "end_time": "2022-12-19T23:46:07.489300Z",
     "start_time": "2022-12-19T23:46:07.485126Z"
    }
   },
   "source": [
    "The interview process typically starts with a screening round, followed by a more extensive onsite round.\n",
    "\n",
    "For the phone screen, the format varies depending on the level you’re interviewing for:\n",
    "\n",
    "- **E4/E5:** \n",
    "    - 5 min: Introduction\n",
    "    - 35 mins: Two leetcode coding problems (Easy/Medium)\n",
    "    - 5 mins: Questions for interviewer\n",
    "- **E6:** \n",
    "    - 2 min: Introduction\n",
    "    - 25 mins: One or two leetcode coding problems\n",
    "    - 15 mins: Behavioral interview\n",
    "    - 3 mins: Question for interviewer\n",
    "    \n",
    "Once you clear the phone screen you will be invited for on-site interviews which include coding round, ML system design round and behavioral round. Again, the composition varies depending on the level you’re interviewing for:\n",
    "\n",
    "- **E4/E5:** \n",
    "    - 2 coding rounds\n",
    "    - 1 ML system design\n",
    "    - 1 Behavioral \n",
    "    \n",
    "- **E6** \n",
    "    - 2 coding rounds\n",
    "    - 2 ML system design\n",
    "    - 1 Behavioral\n",
    "    \n",
    "The level of preparation needed for both phone interviews and onsite rounds is similar.\n",
    "\n",
    "While good performance in coding round is bare minimum you need to pass the loop, leveling is decided by how well you do in system design and behavioral round. \n",
    "\n",
    "Next, we’ll dive deeper into each type of interview and explore how to best prepare for them.\n"
   ]
  },
  {
   "cell_type": "markdown",
   "metadata": {},
   "source": [
    "# Coding Interviews"
   ]
  },
  {
   "cell_type": "markdown",
   "metadata": {
    "ExecuteTime": {
     "end_time": "2024-08-24T19:57:40.422570Z",
     "start_time": "2024-08-24T19:57:40.418455Z"
    }
   },
   "source": [
    ":::{.callout-note collapse=\"true\"}\n",
    "Preparing for this was the most time-consuming part for me, especially since I don’t come from a CS background. Although I worked as an ML Scientist at Microsoft, I had limited exposure to these types of problems in the real world. However, mastering these concepts is essential for entry in high-tech software/ML roles, so it’s important to invest time in thorough preparation.\n",
    ":::"
   ]
  },
  {
   "cell_type": "markdown",
   "metadata": {},
   "source": [
    "Coding round interviews unsurprisingly focus heavily on coding. A typical Interview structure looks like the following - \n",
    "\n",
    "- 5 min: Introduction\n",
    "- 35 mins: Two leetcode coding problems\n",
    "- 5 mins: Questions for interviewer\n",
    "\n",
    "You are mostly expected to code on a plain text notepad with execution disabled. To get a more realistic idea of how a coding interview environment looks like watch this mock interview by [interviewing.io](https://interviewing.io/) - \n"
   ]
  },
  {
   "cell_type": "markdown",
   "metadata": {
    "ExecuteTime": {
     "end_time": "2024-08-24T20:13:10.302036Z",
     "start_time": "2024-08-24T20:13:10.298158Z"
    }
   },
   "source": [
    "<center>\n",
    "<iframe width=\"560\" height=\"315\" src=\"https://www.youtube.com/embed/mDYOy7k8kOQ\" title=\"YouTube video player\" frameborder=\"0\" allow=\"accelerometer; autoplay; clipboard-write; encrypted-media; gyroscope; picture-in-picture\" allowfullscreen>\n",
    "</iframe>\n",
    "<figure>\n",
    "<figcaption>\n",
    "        [Python interview with an interviewing.io engineer: Print k largest elements](https://www.youtube.com/watch?v=mDYOy7k8kOQ)\n",
    "</figcaption>\n",
    "</figure>\n",
    "</center>"
   ]
  },
  {
   "cell_type": "markdown",
   "metadata": {},
   "source": [
    "## A structured approach to solving coding problems in interview"
   ]
  },
  {
   "cell_type": "markdown",
   "metadata": {},
   "source": [
    "When tackling a coding problem, following this structured approach can be very helpful:\n",
    "\n",
    "1. **Ask Clarifying Questions(~3mins)**: When the problem is presented, read it aloud to ensure you fully understand the requirements before jumping to a solution. Ask follow-up questions to clarify any ambiguities. This might involve discussing test cases, considering edge cases, and understanding the expected input range or type. For example, think about how the solution should handle null inputs or extreme values. The ideal state is to get an alignment with your interviewer by writing out some test cases and expected output for the same.\n",
    "\n",
    "2. **Plan Your Approach(~5 mins)**: Outline your solution strategy and explain it to your interviewer while typing it out in the shared text window. Break down the problem into smaller parts if possible and decide on the most appropriate algorithm or data structure and discuss any trade-offs you are making and write down potential time and space complexity of the solution you are proposing. Once your interviewer agrees with your approach and then ask permission to code it out.\n",
    "\n",
    "3. **Write the code(~5 mins)**: Implement your solution, keeping your code clean and well-organized. As you code, ensure that you handle edge cases. Make sure to name your functions, classes and variables appropriately so anybody reading your code can follow.\n",
    "\n",
    "4. **Pseudo run your solution(~2 mins)**: Manually run your code against various test cases while explaining it to your interviewer, including both typical and edge cases, to ensure it behaves as expected. This will help you find potential bugs and an opportunity to correct them before your interviewer points it out.\n",
    "\n",
    "5. **Close(~2 mins)**: Explain time and space complexity of the solution and answer any follow up questions your interviewer might have.\n",
    "\n",
    "By following these steps, you can effectively navigate coding problems and demonstrate a clear, methodical problem-solving approach."
   ]
  },
  {
   "cell_type": "markdown",
   "metadata": {},
   "source": [
    ":::{.callout-tip collapse=\"false\"}\n",
    "\n",
    "## Useful Tips for Coding Interviews\n",
    "\n",
    "1. Keep your introduction brief (~30 seconds) to have more time for solving the problem. For example - \"Hey I am `[Your Name]`, I currently work as `[Title]` at `[Employer Name]`. I have been working here from past `[N]` years. I'm now seeking new opportunities, which brings me here today.\"\n",
    "\n",
    "2. If you’re running out of time, it’s acceptable to manually walk through one or two test cases with your interviewer. You can then suggest moving on to the next question to ensure you cover everything within the allotted time.\n",
    "\n",
    "3. It’s okay to ask for help from an interviewer if you are stuck on a problem\n",
    ":::"
   ]
  },
  {
   "cell_type": "markdown",
   "metadata": {},
   "source": [
    "As you can see from above, coding rounds are really fast paced and you need to be well prepared to get through it. That brings us to prepration. "
   ]
  },
  {
   "cell_type": "markdown",
   "metadata": {},
   "source": [
    "## How to prepare for coding interviews"
   ]
  },
  {
   "cell_type": "markdown",
   "metadata": {},
   "source": [
    "Here is a simple guide on how to prepare - \n",
    "\n",
    "1. **Purchase a [leetcode subscription](https://leetcode.com/)**: This website is the only paid resource you need to prepare for coding interviews.\n",
    "\n",
    "2. **Getting started with [Leetcode learn](https://leetcode.com/explore/learn/)**: If you are like me who doesn't come from a CS degree then going through leetcode learn cards is a good starting point. Here is the structure I followed-\n",
    "    * Array \n",
    "    * Linked List\n",
    "    * Stack & Queue\n",
    "    * Array & Strings \n",
    "    * Binary Tree\n",
    "    * Binary Search\n",
    "    * Binary Search Tree\n",
    "    * Heap\n",
    "    * Graph \n",
    "    * Sorting\n",
    "    * Dynamic Programming \n",
    "\n",
    "3. **Following [Neetcode.io Roadmap](https://neetcode.io/roadmap)**: This roadmap contains 75 leetcode questions which will familiarize you with common coding patterns useful in coding interviews\n",
    "\n",
    "4. **[Solving company tagged questions](https://leetcode.com/company/facebook/?favoriteSlug=facebook-six-months)**: On leetcode.com you can filter for the company you are interviewing and see top tagged questions for the same. I would recommend solving the top 100 tagged questions based on frequency which are asked in last six months.\n",
    "\n",
    "5. **Pay attention to design questions**: While I recommend focusing on the top 100 questions tagged by the company of interest, interviews often place special emphasis on design-related questions. In these cases, you may be asked to design a class to solve a specific use case. I will go beyond the top 100 questions to find every relevant design question asked in the past year. Here are some top design questions tagged for Meta on Leetcode at the time of writing -\n",
    "      * [Random Pick with Weight - LeetCode](https://leetcode.com/problems/random-pick-with-weight/description/?envType=company&envId=facebook&favoriteSlug=facebook-all)\n",
    "      * [Dot Product of Two Sparse Vectors - LeetCode](https://leetcode.com/problems/dot-product-of-two-sparse-vectors/description/?envType=company&envId=facebook&favoriteSlug=facebook-all)\n",
    "      * [LRU Cache](https://leetcode.com/problems/lru-cache/description/?envType=company&envId=facebook&favoriteSlug=facebook-all)\n",
    "      * [Moving Average from Data Stream](https://leetcode.com/problems/moving-average-from-data-stream/description/?envType=company&envId=facebook&favoriteSlug=facebook-all)\n",
    "      * [Insert Delete GetRandom O(1) - Leetcode](https://leetcode.com/problems/insert-delete-getrandom-o1/description/?envType=company&envId=facebook&favoriteSlug=facebook-all)\n",
    "      * [Product of two run length encoded arrays](https://leetcode.com/problems/product-of-two-run-length-encoded-arrays/description/?envType=company&envId=facebook&favoriteSlug=facebook-all)\n",
    "\n",
    "6) **Practice**: Once you are done with the above then you can practice timed assessment on [leetcode.com](https://leetcode.com/assessment/) for your specific employer or generic ones if not listed. If you want more realistic practice then you can buy some mock interviews on [interviewing.io](https://interviewing.io/) where an engineer from top tech company will take your mock and provide feedback on your performance."
   ]
  },
  {
   "cell_type": "markdown",
   "metadata": {},
   "source": [
    ":::{.callout-tip collapse=\"false\"}\n",
    "\n",
    "## Useful tips for coding interviews preparation\n",
    "\n",
    "1. The more you practice in conditions like the actual interview—such as using a text editor and working within timed constraints—the better you will perform\n",
    "2. When practicing, try to solve the problem on your own for 20-30 minutes before consulting the solution.\n",
    "3. If you find a problem challenging to understand, search for `[LeetCode Problem #XYZ]` on YouTube; you’ll likely find a video with a clearer explanation.\n",
    "4. [Keeping an Excel sheet](https://1drv.ms/x/s!Auv3QGqB_NJSgqU4LhOUJtTcV44WjQ) to track the problems you’ve solved during practice, along with notes such as ‘needs revision, time/space complexity and a summary of the solution, can be very helpful for reviewing later. Refer to `Coding Tracking Sheet` tab for template in [MLE Interview Prep Template](https://1drv.ms/x/s!Auv3QGqB_NJSgqU4LhOUJtTcV44WjQ).\n",
    ":::"
   ]
  },
  {
   "cell_type": "markdown",
   "metadata": {
    "ExecuteTime": {
     "end_time": "2024-08-24T21:34:33.672191Z",
     "start_time": "2024-08-24T21:34:33.670189Z"
    }
   },
   "source": [
    "# Machine learning System Design (MLSD)"
   ]
  },
  {
   "cell_type": "markdown",
   "metadata": {},
   "source": [
    "The MLSD interview typically lasts 45 minutes and assesses your ability to solve an abstract ML problem from start to finish. Depending on the level you’re aiming for, you may encounter 1-2 rounds of these interviews. [Excalidraw](https://excalidraw.com/) is what is typically used as the platform, but you are just supposed to write / talk about the problem instead of drawing block diagrams in this one. To get a more realistic idea of how a coding interview environment looks like watch this mock interview by [interviewing.io](https://interviewing.io/) -"
   ]
  },
  {
   "cell_type": "markdown",
   "metadata": {},
   "source": [
    "<center>\n",
    "<iframe width=\"560\" height=\"315\" src=\"https://www.youtube.com/embed/fVOEYvquKBI?si=jNKchiWQZ9MEwBLK\" title=\"YouTube video player\" frameborder=\"0\" allow=\"accelerometer; autoplay; clipboard-write; encrypted-media; gyroscope; picture-in-picture\" allowfullscreen>\n",
    "</iframe>\n",
    "<figure>\n",
    "<figcaption>\n",
    "        [Harmful Content Removal: Machine Learning (System Design)](https://youtu.be/fVOEYvquKBI?si=IQOeKGxoYs02Uml4)\n",
    "</figcaption>\n",
    "</figure>\n",
    "</center>"
   ]
  },
  {
   "cell_type": "markdown",
   "metadata": {
    "ExecuteTime": {
     "end_time": "2024-09-22T02:19:00.310184Z",
     "start_time": "2024-09-22T02:19:00.307808Z"
    }
   },
   "source": [
    "## A structured approach to solving machine learning system design problems in interview"
   ]
  },
  {
   "cell_type": "markdown",
   "metadata": {},
   "source": [
    "In an MLSD interview, it’s crucial for the interviewee to take the lead in the discussion and ensure all aspects of the ML design are covered. The interviews are fast-paced and following a structured method can be highly beneficial:\n",
    "\n",
    "1. **Clarifying Requirements**: In every MLSD interview, you’re typically presented with an abstract problem. For example, you might be asked to “Design a ‘People You May Follow’ recommendation system for Threads or Twitter.” It’s essential to clarify the scope of the problem, ensuring it can be managed within the 45-minute timeframe. Asking the right clarifying questions not only helps you gain clarity but also shows your product awareness. For instance, in the case of a “People You May Follow” recommendation system, you might ask:\n",
    "\n",
    "    * “Can I assume the purpose of this feature is to help users find influencers or people aligned with their interests?”\n",
    "    * “On Threads/Twitter, following is unidirectional—one user can follow another without reciprocation. Is that correct?”\n",
    "    * “What is the estimated total number of users on the platform?\n",
    "    * “What is the current count of daily active users (DAUs)?”\n",
    "    * “What’s the average number of people each user follows?”\n",
    "    * “Since this is a mature platform, can we assume that the user-follow graph is relatively stable and doesn’t change drastically over short periods?”\n",
    "\n",
    "    Once you are done with the clarifying questions, it’s important to summarize them back to the interviewer, for example: “Okay, we are designing a ‘People You May Follow’ recommendation system for the Threads/Twitter platform. We have around XYZ million daily active users, and we’re assuming that the followership graph remains relatively stable over time.” This helps ensure alignment before diving into the design process.\n",
    "    \n",
    "2. **Frame the problem as an ML task**: Once you’ve clarified the requirements, the next step is to map the problem to a known ML objective. This could be something like binary classification, learning to rank, edge prediction, or even visual object detection. Often, a problem can be framed using multiple objectives, and it’s important to explain what each objective aims to achieve and the pros and cons of each approach. For example, in the case of a recommendation system, you could frame it as a learning-to-rank problem or as edge prediction in a user graph. The key is to pick the objective that best aligns with the problem at hand.\n",
    "\n",
    "3. **Data sources for training labels**: Next, brainstorm potential data sources for defining training labels. There could be various options, each with its own trade-offs. For instance, if you’re working on a video recommendation system, you might need to decide between implicit and explicit feedback. Explicit feedback (such as likes, shares, or subscriptions) tends to be high quality but sparse, as not all users provide these signals. On the other hand, implicit feedback (like user’s dwell time or watch time on a post, time spent in the app etc.) is lower quality but available for every user interaction. It’s essential to highlight these trade-offs and choose the best data source for your model’s needs.\n",
    "\n",
    "4. **Data preparation and Feature Engineering**: Once you have identified some potential data sources, it’s good to talk about what features you will create from this data to feed into your ML model. The typical answer revolves around these three “focus area”- \n",
    "\n",
    "    * **Listing entities which are important for the problem**: Entities are concepts around which you want to create model features. Some of the typical entities in Meta are users, authors/creators, pages, posts, images, videos, text, events, connections, advertisements, marketplace listings, groups and most importantly user engagement (with these entities). \n",
    "    * **Features we can derive around this entity from the available data sources**: For example, for a “User entity” we can utilize many features readily available in user profile table such as their ID, name, age, gender, city, country, language, time zone etc. \n",
    "    * **How to process this data to make it a highly robust and informational feature**: For example, user id is a high cardinality feature, and we can convert it into a embedding which our model can learn while user’s gender is a low cardinality feature and can be processed using one-hot encoding. \n",
    "\n",
    "5. **Model selection**: After finishing the data pre-processing step we can talk about choosing the best ML algorithm and architecture for a predictive modeling problem.  A typical approach is to go from simple to more complex solutions while explaining its pros and cons. For example, consider a video recommendation system, we can start by establishing a simple baseline by recommending everyone the most popular content, but we will run into situations like no personalization and a bias towards over-represented groups. You can progressively make it complex by talking about collaborative filtering, content-based filtering or a two-tower deep learning model. It's important to talk about each of these modelling approaches by briefly explaining the algorithm and discussing the tradeoffs. For example, logistic learning might be a good option for you learning a linear task but if the task is complex, we may need to choose more complex models such as ensemble learners or deep learning models.\n",
    "\n",
    "6. **Model training**: Once you have selected the model and defined features, it’s important to talk about some of the details you will consider while training this model. Here are the things to talk about in this section if pertinent to your problem –\n",
    "    * Splitting data b/w training, testing and evaluation\n",
    "    * Identifying class imbalanced datasets and techniques to rectify\n",
    "    * Choosing the right loss function for the model\n",
    "    * Handling Overfitting and Underfitting\n",
    "\n",
    "\n",
    "7. **Evaluation**: Once you have trained the model, it is important to talk about how you will evaluate the model’s performance. This part can be split into two categories:\n",
    "    * **Offline Evaluation**: This is the process of evaluating the model during development phase. An important part here is choosing the right offline metrics to measure how close the predictions are to the ground truth. It’s important to talk about multiple metrics and their pros and cons for the problem in hand. For example, in case of video recommendations there are different metrics to consider like Precision@K, Recall@K, Mean Average Precision(mAP), Normalized Discounted Cumulative Gain (nDCG), Mean Reciprocal Rank (MRR) etc.\n",
    "    * **Online Evaluations**: This process involves evaluating the model's performance in production after deployment. Online metrics, closely aligned with business objectives, typically include multiple measures. As with offline metrics, it is essential to select the appropriate evaluation criteria and provide clear justification for each choice. For instance, in the context of video recommendations, relevant metrics might include the model's click-through rate (CTR), total watch time, the ratio of completed videos to total views, and the skip rate.\n",
    "    \n",
    "8. **Deployment**: Next, if time permits talk about deployment and testing in production. Few things to consider in this section:\n",
    "    * Does the model need to be deployed online or would batch prediction suffice?\n",
    "    * How are we going to roll out this change? Running an experiment, or with a phased rollout?\n",
    "    * How frequently does the model need to be re-trained? \n",
    "\n",
    "\n",
    "\n",
    "\n",
    "\n"
   ]
  },
  {
   "cell_type": "markdown",
   "metadata": {},
   "source": [
    ":::{.callout-tip collapse=\"false\"}\n",
    "\n",
    "## Tips for MLSD interview:\n",
    "\n",
    "* **Time Management is Key**: Aim to allocate time thoughtfully across all sections of the interview. Keep a mental clock to ensure you provide a well-rounded answer that covers all aspects of ML system design. If you find yourself spending too much time on one section, communicate with the interviewer by saying, \"We can revisit this section later if time allows, but I’d like to move on to cover other areas as well.\" This demonstrates both maturity and effective time management—qualities crucial at higher levels.\n",
    "\n",
    "* **Prioritize Practicality Over Perfection**: MLSD interviews don’t expect you to design a state-of-the-art (SOTA) solution within 45 minutes. Instead, focus on creating a feasible, well-reasoned solution. Emphasize why you’re choosing specific components and how they contribute to the overall system rather than chasing an ideal but overly complex design.\n",
    "\n",
    "* **Adapt to Your Interviewer’s Cues**: Pay close attention to suggestions from your interviewer. If they ask to deep-dive into a particular section, focus on providing detailed insights into that area. Conversely, if they signal it is time to move on, gracefully wrap up and proceed to the next section. Flexibility and responsiveness highlight your ability to collaborate effectively.\n",
    "\n",
    "* **Regularly engage with your interviewer**: Approach the interviewer as a collaborator in solving the problem. After completing each section, ask for feedback and check whether they would like you to elaborate further or proceed to the next part. This fosters dynamic conversation and ensures you align with their expectations.\n",
    "\n",
    ":::"
   ]
  },
  {
   "cell_type": "markdown",
   "metadata": {},
   "source": [
    "## How to prepare for ML system design interview"
   ]
  },
  {
   "cell_type": "markdown",
   "metadata": {
    "ExecuteTime": {
     "end_time": "2024-09-22T02:10:15.490919Z",
     "start_time": "2024-09-22T02:10:15.486922Z"
    }
   },
   "source": [
    "Preparing for Machine Learning System Design (MLSD) interviews requires a structured approach that combines technical knowledge, system design principles, and practical problem-solving skills. Here's a step-by-step guide to help you get ready:\n",
    "\n",
    "1. **Purchase ByteByteGo MLSD Interview book**: This book is the only paid resource you need for preparing for MLSD interview. You can buy it from [Amazon](https://a.co/d/aFNQ9va) or you can buy an annual pass on [bytebytego website](https://bytebytego.com/intro/machine-learning-system-design-interview). The first chapter introduces you with ML fundamentals and rest other chapters are focused on ten real ML system design interview questions with detailed solutions. My recommendation is to go thoroughly with the book and read every supplemental links in the reference after every chapter. Once you are done with book, you can refer to these MLSD notes I have created, refer to `ML System Design` tab in  [MLE Interview Prep Template](https://1drv.ms/x/s!Auv3QGqB_NJSgqU4LhOUJtTcV44WjQ).\n",
    "\n",
    "2. **ML interview prep guide**: Meta recruiters provide an interview prep guide which talks about the whole interview experience and MLSD round as well. Its important to read through it and watch the [Meta field guide to machine learning](https://www.metacareers.com/life/how-to-video-applying-machine-learning-to-your-product) series to get more perspective on companies approach to ML.\n",
    "\n",
    "3. **Meta engineering blog**: Reading engineering blog can offer you insights on how MLE’s at Meta have designed some of the key components of most notable features in Meta applications and some of the recent frameworks used internally. Here are some of the most notable blogs are – \n",
    "    * [Powered by AI: Instagram’s Explore recommender system](https://ai.meta.com/blog/powered-by-ai-instagrams-explore-recommender-system/)\n",
    "    * [Scaling the Instagram Explore recommendations system - Engineering at Meta](https://engineering.fb.com/2023/08/09/ml-applications/scaling-instagram-explore-recommendations-system/)\n",
    "    * [News Feed ranking, powered by machine learning - Engineering at Meta](https://engineering.fb.com/2021/01/26/ml-applications/news-feed-ranking/)\n",
    "    * [Meta’s approach to machine learning prediction robustness - Engineering at Meta](https://engineering.fb.com/2024/07/10/data-infrastructure/machine-learning-ml-prediction-robustness-meta/)\n",
    "    \n",
    "4. **Sweat more in training, bleed less in battle**: This analogy perfectly captures the essence of preparation for MLSD interviews. The more effort you put into practicing beforehand, the less you’ll need to improvise during the interview. Here are some practical ways to prepare effectively:\n",
    "    * **Design Random Features**: Open platforms like Instagram, Facebook, or Threads, pick a random feature, and outline how you would design it from an ML Engineer's perspective. Consider how the design might differ depending on the app’s unique goals and user base. Here are some examples of features to practice:\n",
    "        1.\tFriend suggestions (e.g., \"People You May Know\").\n",
    "        2. News Feed ranking.\n",
    "        3. Group recommendations.\n",
    "        4. Short-form video recommendations.\n",
    "        5. Explore tab content discovery.\n",
    "        6. Integrity filtering for harmful content.\n",
    "    * **Prepare Features in Advance**: As discussed earlier, feature engineering is a crucial part of MLSD interviews. Create a comprehensive list of:\n",
    "        1. Data sources: Identify potential sources of data (e.g., user activity, content metadata, social graphs).\n",
    "        2. Entities: Determine key entities like users, items, or sessions.\n",
    "        3. Features: Brainstorm features around these entities, such as engagement patterns, temporal trends, or semantic embeddings.\n",
    "        4. Processing Steps: Document how you would pre-process and transform these features for your ML models.\n",
    "    \n",
    "    Preparing these ahead of time will save valuable mental bandwidth during the interview and elevate the quality of your responses. Pre-built templates and examples can help you focus on tailoring solutions to specific problems rather than scrambling to generate ideas under pressure.\n",
    "\n",
    "5. **Simulate real interview scenarios** : Practice solving MLSD problems under realistic conditions by setting a strict time limit (35–40 minutes) and using tools like [Excalidraw](https://excalidraw.com/) to create diagrams and workflows. Work through a complete problem, starting from clarifying requirements to designing the entire system. Prioritize clear structure and ensure you address all critical aspects, such as data flow, model selection, architecture, and trade-offs. Recording your sessions can help you pinpoint areas for improvement, such as pacing, clarity, or the depth of your explanations, enabling you to refine your approach and being comfortable with the tools for actual interviews.\n"
   ]
  },
  {
   "cell_type": "markdown",
   "metadata": {},
   "source": [
    "# Behavioral Interviews"
   ]
  },
  {
   "cell_type": "markdown",
   "metadata": {},
   "source": [
    "The behavioral interview at Meta usually lasts about 45 minutes and focuses on evaluating how well you align with the company’s core values, such as teamwork, leadership, problem-solving, and adaptability. To prepare effectively, it's important to understand Meta's culture and values, as well as how to clearly communicate your past experiences. This interview is particularly crucial at higher levels, as it plays a significant role in deciding your level for the position."
   ]
  },
  {
   "cell_type": "markdown",
   "metadata": {},
   "source": [
    "## A Structured Approach to Answering Behavioral Questions"
   ]
  },
  {
   "cell_type": "markdown",
   "metadata": {},
   "source": [
    "One of the best ways to frame your answers is by using the STAR method, which helps you organize your responses clearly and concisely:\n",
    "- **Situation**: Set the context for your story. Describe the challenge or situation you were in, including the key players and the environment.\n",
    "- **Task**: Outline your specific responsibility or what you were tasked to do in that situation.\n",
    "- **Action**: Explain the steps you took to address the task or solve the problem. Focus on the actions you personally took, rather than what the team did as a whole.\n",
    "- **Result**: Share the outcome of your actions. Quantify the results if possible (e.g., increased efficiency by 20%, reduced costs by 15%) and mention what you learned from the experience.\n",
    "\n",
    "Using this structure helps you keep your answers clear, logical, and impactful. For example, when asked about teamwork, describe a scenario where you worked with a cross-functional team, the challenge you faced, the actions you took to collaborate, and the successful outcome.\n"
   ]
  },
  {
   "cell_type": "markdown",
   "metadata": {},
   "source": [
    "## How to Prepare for Behavioral Interviews"
   ]
  },
  {
   "cell_type": "markdown",
   "metadata": {},
   "source": [
    "Here’s a step-by-step guide to help you get prepared for Behavioral interviews - \n",
    "\n",
    "1. **Understand Meta's Values and Culture**: Familiarize yourself with the company’s mission, principle and core values to ensure that your answers reflect how you embody these traits. Think about how your experiences align with Meta's core values and communicate that through your stories.\n",
    "\n",
    "2. **Interview Jedi Youtube Video series([Part1](https://youtu.be/ObFGBUF-TuQ?si=0T6degst88wIbPkv), [Part2](https://youtu.be/Hr5UJnKxwyg?si=NM27pnV_YozoiP_y))**: This series contains top questions asked in behavioral rounds at Meta and covers evaluation criteria, response framework, tips and tricks to prepare + answer them effectively. Having answers pre-prepared to these questions will help you setup for a successful behavioral interview. You can use the `Behavioral Tab` in  [MLE Interview Prep Template](https://1drv.ms/x/s!Auv3QGqB_NJSgqU4LhOUJtTcV44WjQ) to write your answers to these questions.\n",
    "\n",
    "3. **Practice and Refine Your Stories**: Once you’ve gone through the videos and written your stories, practice delivering them succinctly using the STAR method. Try to frame each story in a way that highlights your skills and accomplishments while demonstrating your alignment with Meta’s values. Mock interviews with peers or mentors can help you fine-tune your answers and gain confidence in presenting your experiences.\n",
    "\n",
    "4. **Striking the right balance b/w abstraction and technicality**: It’s essential to strike the right balance between abstraction and technicality in your responses. You want to prove your problem-solving and leadership abilities without getting bogged down in excessive technical details. While it’s important to avoid unnecessary technical jargon, you should still provide sufficient detail to show the depth of your involvement. For example, instead of providing internal abbreviations like ECR say managed Docker container registry. Watch this section from [A Life Engineered Video](https://youtu.be/0Z9RW_hhUT4?t=484) to understand the difference b/w answer to the same behavioral question at different levels.\n",
    "\n",
    "5. **Be Honest and Authentic**: Meta values authenticity and integrity, so avoid overselling yourself. Be honest about your experiences, especially when discussing challenges or failures. What matters most is your ability to reflect on your experiences, learn from them, and demonstrate how you've grown.\n",
    "\n",
    "By following these strategies, you can approach Meta's behavioral interviews with a structured, thoughtful approach that showcases your qualifications and demonstrates your alignment with the company’s values.\n"
   ]
  },
  {
   "cell_type": "markdown",
   "metadata": {
    "ExecuteTime": {
     "end_time": "2024-08-24T19:36:43.347586Z",
     "start_time": "2024-08-24T19:36:43.345427Z"
    }
   },
   "source": [
    "# Closing Thoughts"
   ]
  },
  {
   "cell_type": "markdown",
   "metadata": {},
   "source": [
    "Preparing for the Meta MLE interview can feel like a challenging journey, but with the right preparation and resources, you can navigate it successfully. Lastly, remember that the process itself is a learning experience. Each interview is an opportunity to grow, learn from feedback, and refine your skills. Whether you land the job or not, the preparation you put in will enhance your overall growth as a machine learning engineer.\n",
    "\n",
    "Stay focused, stay curious, and approach each step with confidence. Good luck!\n"
   ]
  },
  {
   "cell_type": "markdown",
   "metadata": {},
   "source": [
    "I hope you enjoyed reading it. If there is any feedback on the code or just the blog post, feel free to comment below or reach out on [LinkedIn](https://www.linkedin.com/in/aayushmnit/)."
   ]
  }
 ],
 "metadata": {
  "kernelspec": {
   "display_name": "Python 3",
   "language": "python",
   "name": "python3"
  },
  "language_info": {
   "codemirror_mode": {
    "name": "ipython",
    "version": 3
   },
   "file_extension": ".py",
   "mimetype": "text/x-python",
   "name": "python",
   "nbconvert_exporter": "python",
   "pygments_lexer": "ipython3",
   "version": "3.9.12"
  },
  "toc": {
   "base_numbering": 1,
   "nav_menu": {},
   "number_sections": true,
   "sideBar": true,
   "skip_h1_title": false,
   "title_cell": "Table of Contents",
   "title_sidebar": "Contents",
   "toc_cell": false,
   "toc_position": {
    "height": "991.804px",
    "left": "30px",
    "top": "88px",
    "width": "392px"
   },
   "toc_section_display": true,
   "toc_window_display": true
  },
  "varInspector": {
   "cols": {
    "lenName": 16,
    "lenType": 16,
    "lenVar": 40
   },
   "kernels_config": {
    "python": {
     "delete_cmd_postfix": "",
     "delete_cmd_prefix": "del ",
     "library": "var_list.py",
     "varRefreshCmd": "print(var_dic_list())"
    },
    "r": {
     "delete_cmd_postfix": ") ",
     "delete_cmd_prefix": "rm(",
     "library": "var_list.r",
     "varRefreshCmd": "cat(var_dic_list()) "
    }
   },
   "types_to_exclude": [
    "module",
    "function",
    "builtin_function_or_method",
    "instance",
    "_Feature"
   ],
   "window_display": false
  }
 },
 "nbformat": 4,
 "nbformat_minor": 4
}
