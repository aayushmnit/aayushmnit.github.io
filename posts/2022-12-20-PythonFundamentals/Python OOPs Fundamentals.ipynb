{
 "cells": [
  {
   "cell_type": "markdown",
   "metadata": {},
   "source": [
    "---\n",
    "title: Python OOPs fundamentals\n",
    "author: Aayush Agrawal\n",
    "date: \"2022-12-20\"\n",
    "categories: [Python, Programming]\n",
    "image: \"Python-logo.png\"\n",
    "format:\n",
    "    html:\n",
    "        code-fold: false\n",
    "        number-sections: true     \n",
    "---"
   ]
  },
  {
   "cell_type": "markdown",
   "metadata": {},
   "source": [
    "> An introduction to Object Oriented programming using Python."
   ]
  },
  {
   "cell_type": "markdown",
   "metadata": {},
   "source": [
    "Increasingly it's becoming important for Data professionals to become better at programming and mordern programming is centered around Object Oriented programming paradigm. This articles helps in explaining some important programming concepts which are mostly language agnostic but we will be using Python in this article."
   ]
  },
  {
   "cell_type": "markdown",
   "metadata": {},
   "source": [
    "Object-oriented programming (OOPs) is a programming paradigm which relies on the concept of classes and objects. The basic idea of OOP is to divide a sophisticated program into a number of objects that interact with each other to achieve the desired functionality."
   ]
  },
  {
   "cell_type": "markdown",
   "metadata": {
    "heading_collapsed": true
   },
   "source": [
    "## What are `Objects` and `Classes`?"
   ]
  },
  {
   "cell_type": "markdown",
   "metadata": {
    "hidden": true
   },
   "source": [
    "`Classes` are the blue print of defining an `Object`. While `Object` are a collection of data/properties and their behaviors/methods. \n",
    "\n",
    "For example- Think of a class `Bulb` which will have a state (On/Off) and methods to turnOn and turnoff the bulb."
   ]
  },
  {
   "cell_type": "code",
   "execution_count": 6,
   "metadata": {
    "ExecuteTime": {
     "end_time": "2022-12-16T21:45:27.374096Z",
     "start_time": "2022-12-16T21:45:27.370947Z"
    },
    "hidden": true
   },
   "outputs": [],
   "source": [
    "class Bulb():\n",
    "    def __init__(self, onOff=False): self.onOff = onOff    \n",
    "    def turnOn(self): self.onOff = True\n",
    "    def turnOff(self): self.onOff = False"
   ]
  },
  {
   "cell_type": "markdown",
   "metadata": {
    "hidden": true
   },
   "source": [
    "Now we can create multiple bulb objects from this `Bulb` class."
   ]
  },
  {
   "cell_type": "code",
   "execution_count": 13,
   "metadata": {
    "ExecuteTime": {
     "end_time": "2022-12-16T22:47:16.342258Z",
     "start_time": "2022-12-16T22:47:16.338097Z"
    },
    "hidden": true
   },
   "outputs": [
    {
     "name": "stdout",
     "output_type": "stream",
     "text": [
      "Bulb 1 state is :True, Bulb 2 state is :False\n"
     ]
    }
   ],
   "source": [
    "b1 = Bulb(onOff=True)\n",
    "b2 = Bulb()\n",
    "print(f\"Bulb 1 state is :{b1.onOff}, Bulb 2 state is :{b2.onOff}\")"
   ]
  },
  {
   "cell_type": "markdown",
   "metadata": {
    "hidden": true
   },
   "source": [
    "b1 and b2 are objects of class `Bulb`. Let's use the turnOn and turnOff `methods` to update the bulb `properties`."
   ]
  },
  {
   "cell_type": "code",
   "execution_count": 14,
   "metadata": {
    "ExecuteTime": {
     "end_time": "2022-12-16T22:47:17.563648Z",
     "start_time": "2022-12-16T22:47:17.560081Z"
    },
    "hidden": true
   },
   "outputs": [
    {
     "name": "stdout",
     "output_type": "stream",
     "text": [
      "Bulb 1 state is :False, Bulb 2 state is :True\n"
     ]
    }
   ],
   "source": [
    "b1.turnOff(); b2.turnOn()\n",
    "print(f\"Bulb 1 state is :{b1.onOff}, Bulb 2 state is :{b2.onOff}\")"
   ]
  },
  {
   "cell_type": "markdown",
   "metadata": {
    "hidden": true
   },
   "source": [
    "As we can see from the example above, a `Bulb` object contains of `onOff` property. `Properties` are variables that contain information regarding the object of a class and `Methods` like turnOn and turnOff in our `Bulb` class are functions that have access to `properties` of a class. `Methods` can accept additional parameters, modify properties and return values.  "
   ]
  },
  {
   "cell_type": "markdown",
   "metadata": {
    "ExecuteTime": {
     "end_time": "2022-12-16T22:57:39.462040Z",
     "start_time": "2022-12-16T22:57:39.459382Z"
    },
    "heading_collapsed": true
   },
   "source": [
    "## Class and Instance variables"
   ]
  },
  {
   "cell_type": "markdown",
   "metadata": {
    "hidden": true
   },
   "source": [
    "In Python, properties can be defined in two ways - \n",
    "\n",
    "- **Class Variables** - Class variables are shared by all objects of the class. A change in the class variable will change the value of that property in **all the objects of the class**.\n",
    "- **Instance Varaibles** - Instance variables are unique to each instance or object of the class. A change in instance variable will change the value of the property in that specific object only."
   ]
  },
  {
   "cell_type": "code",
   "execution_count": 27,
   "metadata": {
    "ExecuteTime": {
     "end_time": "2022-12-16T23:45:54.362708Z",
     "start_time": "2022-12-16T23:45:54.358328Z"
    },
    "hidden": true
   },
   "outputs": [
    {
     "name": "stdout",
     "output_type": "stream",
     "text": [
      "Name :Aayush\n",
      "Company Name: Microsoft\n",
      "Name :John\n",
      "Company Name: Microsoft\n"
     ]
    }
   ],
   "source": [
    "class Employee:\n",
    "    # Creating a class variable\n",
    "    companyName = \"Microsoft\"\n",
    "    \n",
    "    def __init__(self, name):\n",
    "        # creating a instance variable\n",
    "        self.name = name\n",
    "    \n",
    "e1 = Employee('Aayush')\n",
    "e2 = Employee('John')\n",
    "\n",
    "print(f'Name :{e1.name}')\n",
    "print(f'Company Name: {e1.companyName}')\n",
    "print(f'Name :{e2.name}')\n",
    "print(f'Company Name: {e2.companyName}')"
   ]
  },
  {
   "cell_type": "markdown",
   "metadata": {
    "hidden": true
   },
   "source": [
    "As we can see above, class variable are defined outside of the initializer and instance variable are defined inside the initializer."
   ]
  },
  {
   "cell_type": "code",
   "execution_count": 28,
   "metadata": {
    "ExecuteTime": {
     "end_time": "2022-12-16T23:45:55.562597Z",
     "start_time": "2022-12-16T23:45:55.559445Z"
    },
    "hidden": true
   },
   "outputs": [
    {
     "name": "stdout",
     "output_type": "stream",
     "text": [
      "Amazon Amazon\n"
     ]
    }
   ],
   "source": [
    "Employee.companyName = \"Amazon\"\n",
    "print(e1.companyName, e2.companyName)"
   ]
  },
  {
   "cell_type": "markdown",
   "metadata": {
    "ExecuteTime": {
     "end_time": "2022-12-16T23:44:54.878984Z",
     "start_time": "2022-12-16T23:44:54.874981Z"
    },
    "hidden": true
   },
   "source": [
    "As we can see above changing a class variable in the Employee class changes class variable in all objects objects of the class. Most of the times we will be using instance variable but knowledge about class variables can come handy. Let's look at a interesting use of class variable -"
   ]
  },
  {
   "cell_type": "code",
   "execution_count": 30,
   "metadata": {
    "ExecuteTime": {
     "end_time": "2022-12-16T23:51:13.987851Z",
     "start_time": "2022-12-16T23:51:13.983102Z"
    },
    "hidden": true
   },
   "outputs": [
    {
     "name": "stdout",
     "output_type": "stream",
     "text": [
      "Name :Aayush\n",
      "Team Members: ['Aayush', 'John']\n",
      "Name :John\n",
      "Company Name: ['Aayush', 'John']\n"
     ]
    }
   ],
   "source": [
    "class Employee:\n",
    "    # Creating a class variable\n",
    "    companyName = \"Microsoft\"\n",
    "    companyEmployees = []\n",
    "    \n",
    "    def __init__(self, name):\n",
    "        # creating a instance variable\n",
    "        self.name = name\n",
    "        self.companyEmployees.append(self.name)\n",
    "    \n",
    "e1 = Employee('Aayush')\n",
    "e2 = Employee('John')\n",
    "\n",
    "print(f'Name :{e1.name}')\n",
    "print(f'Team Members: {e1.companyEmployees}')\n",
    "print(f'Name :{e2.name}')\n",
    "print(f'Company Name: {e2.companyEmployees}')"
   ]
  },
  {
   "cell_type": "markdown",
   "metadata": {
    "hidden": true
   },
   "source": [
    "As we can see above, we are saving all objects of `Employee` class in `companyEmployees` which is a list shared by all objects of the class `Employee`."
   ]
  },
  {
   "cell_type": "markdown",
   "metadata": {
    "ExecuteTime": {
     "end_time": "2022-12-16T23:56:03.254314Z",
     "start_time": "2022-12-16T23:56:03.251427Z"
    },
    "heading_collapsed": true
   },
   "source": [
    "## Class, Static and Instance methods"
   ]
  },
  {
   "cell_type": "markdown",
   "metadata": {
    "hidden": true
   },
   "source": [
    "In Python classes, we have three types of methods - \n",
    "\n",
    "- **Class Methods** - Class methods works with class variables and are accessible using the class name rather than its object.\n",
    "- **Static Methods** - Static methods are methods that are usually limited to class only and not their objects. They don't typically modify or access class and instance variable. They are used as utility functions inside the class and we don't want the inherited class to modify them.\n",
    "- **Instance Methods** - Instance methods are the most used methods and have access to instance variables within the class. They can also take new parameters to perform desired operations."
   ]
  },
  {
   "cell_type": "code",
   "execution_count": 5,
   "metadata": {
    "ExecuteTime": {
     "end_time": "2022-12-18T01:20:29.445420Z",
     "start_time": "2022-12-18T01:20:29.442115Z"
    },
    "hidden": true
   },
   "outputs": [
    {
     "name": "stdout",
     "output_type": "stream",
     "text": [
      "Calling class method. Company name is Microsoft\n",
      "Calling Static method. 4\n",
      "Calling instance method. Employee name is Aayush\n"
     ]
    }
   ],
   "source": [
    "class Employee:\n",
    "    # Creating a class variable\n",
    "    companyName = \"Microsoft\"\n",
    "    companyEmployees = []\n",
    "    \n",
    "    def __init__(self, name):\n",
    "        # creating a instance variable\n",
    "        self.name = name\n",
    "        self.companyEmployees.append(self.name)\n",
    "    \n",
    "    @classmethod\n",
    "    def getCompanyName(cls): # This is a class method\n",
    "         return cls.companyName\n",
    "    \n",
    "    @staticmethod\n",
    "    def plusTwo(x): # This is a static method\n",
    "        return x+2\n",
    "    \n",
    "    def getName(self): # This is a instance method\n",
    "        return self.name\n",
    "    \n",
    "e1 = Employee('Aayush')\n",
    "print(f\"Calling class method. Company name is {e1.getCompanyName()}\")\n",
    "print(f\"Calling Static method. {e1.plusTwo(2)}\")\n",
    "print(f\"Calling instance method. Employee name is {e1.getName()}\")"
   ]
  },
  {
   "cell_type": "markdown",
   "metadata": {
    "hidden": true
   },
   "source": [
    "As we can see above we use `@classmethod` decorator to define class method. `cls` is used to refer to the class just as `self` is used to refer to the object of the class. Class method atleast takes one argument `cls`.\n",
    "\n",
    ":::{.callout-note}\n",
    "We can use any other name instead of `cls` but `cls` is used as a convention. \n",
    ":::\n"
   ]
  },
  {
   "cell_type": "markdown",
   "metadata": {
    "hidden": true
   },
   "source": [
    "We use `@staticmethod` decorator to define static class `plusTwo`. We can see that static methods don't take any argument like `self` and `cls`."
   ]
  },
  {
   "cell_type": "markdown",
   "metadata": {
    "hidden": true
   },
   "source": [
    "Most commonly used methods are instance methods and they can be defined without a decorator within the class. Just like class method they take atleast one argument which is `self` by convention. \n",
    "\n",
    ":::{.callout-note}\n",
    "We can use any other name instead of `self` but `self` is used as a convention. \n",
    ":::"
   ]
  },
  {
   "cell_type": "markdown",
   "metadata": {
    "heading_collapsed": true
   },
   "source": [
    "## Access Modifiers"
   ]
  },
  {
   "cell_type": "markdown",
   "metadata": {
    "hidden": true
   },
   "source": [
    "Access modifiers limit access to the variables and functions of a class. There are three types of access modifiers - public, protected and private."
   ]
  },
  {
   "cell_type": "markdown",
   "metadata": {
    "heading_collapsed": true,
    "hidden": true
   },
   "source": [
    "### Public Attributes"
   ]
  },
  {
   "cell_type": "markdown",
   "metadata": {
    "hidden": true
   },
   "source": [
    "Public attributes are those methods and properties which can be access anywhere inside and outside of the class. By default, all the member variables and functions are public."
   ]
  },
  {
   "cell_type": "code",
   "execution_count": 8,
   "metadata": {
    "ExecuteTime": {
     "end_time": "2022-12-18T01:44:02.728790Z",
     "start_time": "2022-12-18T01:44:02.725726Z"
    },
    "hidden": true
   },
   "outputs": [
    {
     "name": "stdout",
     "output_type": "stream",
     "text": [
      "Employee Name: Aayush\n"
     ]
    }
   ],
   "source": [
    "class Employee:\n",
    "    def __init__(self, name):\n",
    "        self.name = name ## Public variable\n",
    "        \n",
    "    def getName(self): ## Public method\n",
    "        return self.name\n",
    "\n",
    "e1 = Employee(\"Aayush\")\n",
    "print(f\"Employee Name: {e1.getName()}\")"
   ]
  },
  {
   "cell_type": "markdown",
   "metadata": {
    "hidden": true
   },
   "source": [
    "In the case above, both property `name` and method `getName` are public attributes."
   ]
  },
  {
   "cell_type": "markdown",
   "metadata": {
    "heading_collapsed": true,
    "hidden": true
   },
   "source": [
    "### Protected Attributes"
   ]
  },
  {
   "cell_type": "markdown",
   "metadata": {
    "hidden": true
   },
   "source": [
    "Protected attributes are similar to public attributes which can be accessed within the class and also available to sub classes. The only difference is the convention, which is to define each protected member with a _single underscore \"\\_\"_."
   ]
  },
  {
   "cell_type": "code",
   "execution_count": 10,
   "metadata": {
    "ExecuteTime": {
     "end_time": "2022-12-18T01:50:51.009175Z",
     "start_time": "2022-12-18T01:50:51.005784Z"
    },
    "hidden": true
   },
   "outputs": [
    {
     "name": "stdout",
     "output_type": "stream",
     "text": [
      "Employee Name: Aayush\n",
      "Project Name: Project Orland\n"
     ]
    }
   ],
   "source": [
    "class Employee:\n",
    "    def __init__(self, name, project):\n",
    "        self.name = name ## Public variable\n",
    "        self._project = project ## Protected variable\n",
    "        \n",
    "    def getName(self): ## Public method\n",
    "        return self.name\n",
    "    \n",
    "    def _getProject(self): ## Protected method\n",
    "        return self._project\n",
    "    \n",
    "e1 = Employee(\"Aayush\", \"Project Orland\")\n",
    "print(f\"Employee Name: {e1.getName()}\")\n",
    "print(f\"Project Name: {e1._getProject()}\")"
   ]
  },
  {
   "cell_type": "markdown",
   "metadata": {
    "ExecuteTime": {
     "end_time": "2022-12-18T01:51:41.040190Z",
     "start_time": "2022-12-18T01:51:41.037247Z"
    },
    "hidden": true
   },
   "source": [
    "In the case above, both property `_project` and method `_getProject` are protected attributes."
   ]
  },
  {
   "cell_type": "markdown",
   "metadata": {
    "heading_collapsed": true,
    "hidden": true
   },
   "source": [
    "### Private Attributes"
   ]
  },
  {
   "cell_type": "markdown",
   "metadata": {
    "hidden": true
   },
   "source": [
    "Private attributes are accessible within the class but not outside of the class. To define a private attribute, prefix the method or property with _double underscore\"\\_\"_."
   ]
  },
  {
   "cell_type": "code",
   "execution_count": 14,
   "metadata": {
    "ExecuteTime": {
     "end_time": "2022-12-18T02:05:42.643814Z",
     "start_time": "2022-12-18T02:05:42.633066Z"
    },
    "hidden": true
   },
   "outputs": [
    {
     "name": "stdout",
     "output_type": "stream",
     "text": [
      "Employee Name: Aayush\n"
     ]
    },
    {
     "ename": "AttributeError",
     "evalue": "'Employee' object has no attribute '__getSalary'",
     "output_type": "error",
     "traceback": [
      "\u001b[0;31m---------------------------------------------------------------------------\u001b[0m",
      "\u001b[0;31mAttributeError\u001b[0m                            Traceback (most recent call last)",
      "Input \u001b[0;32mIn [14]\u001b[0m, in \u001b[0;36m<cell line: 18>\u001b[0;34m()\u001b[0m\n\u001b[1;32m     16\u001b[0m e1 \u001b[38;5;241m=\u001b[39m Employee(\u001b[38;5;124m\"\u001b[39m\u001b[38;5;124mAayush\u001b[39m\u001b[38;5;124m\"\u001b[39m, \u001b[38;5;124m\"\u001b[39m\u001b[38;5;124mProject Orland\u001b[39m\u001b[38;5;124m\"\u001b[39m, \u001b[38;5;124m\"\u001b[39m\u001b[38;5;124m3500\u001b[39m\u001b[38;5;124m\"\u001b[39m)\n\u001b[1;32m     17\u001b[0m \u001b[38;5;28mprint\u001b[39m(\u001b[38;5;124mf\u001b[39m\u001b[38;5;124m\"\u001b[39m\u001b[38;5;124mEmployee Name: \u001b[39m\u001b[38;5;132;01m{\u001b[39;00me1\u001b[38;5;241m.\u001b[39mgetName()\u001b[38;5;132;01m}\u001b[39;00m\u001b[38;5;124m\"\u001b[39m)\n\u001b[0;32m---> 18\u001b[0m \u001b[38;5;28mprint\u001b[39m(\u001b[38;5;124mf\u001b[39m\u001b[38;5;124m\"\u001b[39m\u001b[38;5;124mProject Name: \u001b[39m\u001b[38;5;132;01m{\u001b[39;00me1\u001b[38;5;241m.\u001b[39m__getSalary()\u001b[38;5;132;01m}\u001b[39;00m\u001b[38;5;124m\"\u001b[39m)\n",
      "\u001b[0;31mAttributeError\u001b[0m: 'Employee' object has no attribute '__getSalary'"
     ]
    }
   ],
   "source": [
    "class Employee:\n",
    "    def __init__(self, name, project, salary):\n",
    "        self.name = name ## Public variable\n",
    "        self._project = project ## Protected variable\n",
    "        self.__salary = salary\n",
    "        \n",
    "    def getName(self): ## Public method\n",
    "        return self.name\n",
    "    \n",
    "    def _getProject(self): ## Protected method\n",
    "        return self._project\n",
    "    \n",
    "    def __getSalary(self): ## Protected method\n",
    "        return self.__salary\n",
    "    \n",
    "e1 = Employee(\"Aayush\", \"Project Orland\", \"3500\")\n",
    "print(f\"Employee Name: {e1.getName()}\")\n",
    "print(f\"Project Name: {e1.__getSalary()}\") "
   ]
  },
  {
   "cell_type": "markdown",
   "metadata": {
    "hidden": true
   },
   "source": [
    "As we can see above, `__salary` propery and `__getSalary` method are both private attributes and when we call them outside of the class they throw an error that `'Employee' object has no attribute '__getSalary'`."
   ]
  },
  {
   "cell_type": "markdown",
   "metadata": {},
   "source": [
    "## Encapsulation"
   ]
  },
  {
   "cell_type": "markdown",
   "metadata": {},
   "source": [
    "Encapsulation in OOP refers to binding data and the methods to manipulate that data together in a single unit, that is, class. Encapsulation is usually used to hide the state and representation of the object from outside. A good use of encapsulation is to make all properties private of a class to prevent direct access from outside and use public methods to let the outside world communicate with the class."
   ]
  },
  {
   "cell_type": "code",
   "execution_count": 2,
   "metadata": {
    "ExecuteTime": {
     "end_time": "2022-12-19T00:16:38.148831Z",
     "start_time": "2022-12-19T00:16:38.145703Z"
    }
   },
   "outputs": [
    {
     "name": "stdout",
     "output_type": "stream",
     "text": [
      "Employee Name: Aayush\n"
     ]
    }
   ],
   "source": [
    "class Employee:\n",
    "    def __init__(self, name, project, salary):\n",
    "        self.__name = name ## Public variable\n",
    "        self.__project = project ## Protected variable\n",
    "        self.__salary = salary\n",
    "        \n",
    "    def getName(self): ## Public method\n",
    "        return self.__name\n",
    "    \n",
    "e1 = Employee(\"Aayush\", \"Project Orland\", \"3500\")\n",
    "print(f\"Employee Name: {e1.getName()}\")"
   ]
  },
  {
   "cell_type": "markdown",
   "metadata": {},
   "source": [
    "Encapsulation have several advantage - \n",
    "\n",
    "- Properties of the class can be hidden from the outside world\n",
    "- More control over what the outside world can access from the class"
   ]
  },
  {
   "cell_type": "markdown",
   "metadata": {},
   "source": [
    "A good example of encapsulation would be a access control class based on username and password."
   ]
  },
  {
   "cell_type": "code",
   "execution_count": 4,
   "metadata": {
    "ExecuteTime": {
     "end_time": "2022-12-19T00:25:18.106050Z",
     "start_time": "2022-12-19T00:25:18.095247Z"
    }
   },
   "outputs": [
    {
     "name": "stdout",
     "output_type": "stream",
     "text": [
      "Access granted to Aayush\n",
      "Invalid credentials\n"
     ]
    },
    {
     "ename": "AttributeError",
     "evalue": "'Auth' object has no attribute '__password'",
     "output_type": "error",
     "traceback": [
      "\u001b[0;31m---------------------------------------------------------------------------\u001b[0m",
      "\u001b[0;31mAttributeError\u001b[0m                            Traceback (most recent call last)",
      "Input \u001b[0;32mIn [4]\u001b[0m, in \u001b[0;36m<cell line: 16>\u001b[0;34m()\u001b[0m\n\u001b[1;32m     13\u001b[0m e1\u001b[38;5;241m.\u001b[39mlogin(\u001b[38;5;124m\"\u001b[39m\u001b[38;5;124mAayush\u001b[39m\u001b[38;5;124m\"\u001b[39m, \u001b[38;5;124m\"\u001b[39m\u001b[38;5;124mwhatever\u001b[39m\u001b[38;5;124m\"\u001b[39m) \u001b[38;5;66;03m## This will grant access\u001b[39;00m\n\u001b[1;32m     15\u001b[0m e1\u001b[38;5;241m.\u001b[39mlogin(\u001b[38;5;124m\"\u001b[39m\u001b[38;5;124mAayush\u001b[39m\u001b[38;5;124m\"\u001b[39m, \u001b[38;5;124m\"\u001b[39m\u001b[38;5;124maasdasd\u001b[39m\u001b[38;5;124m\"\u001b[39m) \u001b[38;5;66;03m## This will say invalid creds\u001b[39;00m\n\u001b[0;32m---> 16\u001b[0m \u001b[43me1\u001b[49m\u001b[38;5;241;43m.\u001b[39;49m\u001b[43m__password\u001b[49m\n",
      "\u001b[0;31mAttributeError\u001b[0m: 'Auth' object has no attribute '__password'"
     ]
    }
   ],
   "source": [
    "class Auth:\n",
    "    def __init__(self, userName=None, password=None):\n",
    "        self.__userName = userName\n",
    "        self.__password = password\n",
    "        \n",
    "    def login(self, userName, password):\n",
    "        if (self.__userName == userName) and (self.__password == password):\n",
    "            print (f\"Access granted to {userName}\")\n",
    "        else:\n",
    "            print(\"Invalid credentials\")\n",
    "            \n",
    "e1 = Auth(\"Aayush\", \"whatever\")\n",
    "e1.login(\"Aayush\", \"whatever\") ## This will grant access\n",
    "\n",
    "e1.login(\"Aayush\", \"aasdasd\") ## This will say invalid creds\n",
    "e1.__password ## This will raise an error as private properties can't be accessed from outside."
   ]
  },
  {
   "cell_type": "markdown",
   "metadata": {},
   "source": [
    "As we can see above `__username` and `__password` are  protected properties and can only be used by the class to grand or reject access request."
   ]
  },
  {
   "cell_type": "markdown",
   "metadata": {},
   "source": [
    "## Inheritance"
   ]
  },
  {
   "cell_type": "markdown",
   "metadata": {},
   "source": [
    "Inheritance provides a way to create new classes from the existing classes. The new class will inherit all the non-private attributes(properties and method) from the existing class. The new class can be called a child class and existing class can be called a parent class."
   ]
  },
  {
   "cell_type": "code",
   "execution_count": 11,
   "metadata": {
    "ExecuteTime": {
     "end_time": "2022-12-19T00:56:57.821464Z",
     "start_time": "2022-12-19T00:56:57.819310Z"
    }
   },
   "outputs": [],
   "source": [
    "import math"
   ]
  },
  {
   "cell_type": "code",
   "execution_count": 16,
   "metadata": {
    "ExecuteTime": {
     "end_time": "2022-12-19T00:57:58.502485Z",
     "start_time": "2022-12-19T00:57:58.498491Z"
    }
   },
   "outputs": [
    {
     "name": "stdout",
     "output_type": "stream",
     "text": [
      "This shape is called Square and area is 16.\n",
      "This shape is called Circle and area is 28.274333882308138.\n"
     ]
    }
   ],
   "source": [
    "class Shape:\n",
    "    def __init__(self, name):\n",
    "        self.name = name\n",
    "        \n",
    "    def getArea(self):\n",
    "        pass\n",
    "    \n",
    "    def printDetails(self):\n",
    "        print(f\"This shape is called {self.name} and area is {self.getArea()}.\")\n",
    "        \n",
    "class Square(Shape):\n",
    "    def __init__(self, edge):\n",
    "        ## calling the constructor from parent class Shape\n",
    "        Shape.__init__(self, name = \"Square\")\n",
    "        self.edge = edge\n",
    "    \n",
    "    ## Overiding the getArea function\n",
    "    def getArea(self):\n",
    "        return self.edge**2\n",
    "    \n",
    "class Circle(Shape):\n",
    "    def __init__(self, radius):\n",
    "        ## calling the constructor from parent class Shape\n",
    "        Shape.__init__(self, name = \"Circle\")\n",
    "        self.radius = radius\n",
    "    ## Overiding the getArea function\n",
    "    def getArea(self):\n",
    "        return math.pi * (self.radius**2)\n",
    "    \n",
    "obj1 = Square(4)\n",
    "obj1.printDetails()\n",
    "\n",
    "obj2 = Circle(3)\n",
    "obj2.printDetails()"
   ]
  },
  {
   "cell_type": "markdown",
   "metadata": {},
   "source": [
    "As we can see above we defined a parent class `Shape` and then we inherited it to create `Square` and `Circle` child class. While defining `Square` and `Circle` class we overwrote the `getArea` function pertinent to the class but we used the `printDetails` function from the parent class to print details about child classes. The more common example in machine learning world would be create your own models in Pytorch where we inherit from `nn.Module` class to create a new model."
   ]
  }
 ],
 "metadata": {
  "kernelspec": {
   "display_name": "Python 3 (ipykernel)",
   "language": "python",
   "name": "python3"
  },
  "language_info": {
   "codemirror_mode": {
    "name": "ipython",
    "version": 3
   },
   "file_extension": ".py",
   "mimetype": "text/x-python",
   "name": "python",
   "nbconvert_exporter": "python",
   "pygments_lexer": "ipython3",
   "version": "3.9.13"
  },
  "toc": {
   "base_numbering": 1,
   "nav_menu": {},
   "number_sections": true,
   "sideBar": true,
   "skip_h1_title": false,
   "title_cell": "Table of Contents",
   "title_sidebar": "Contents",
   "toc_cell": false,
   "toc_position": {
    "height": "991.804px",
    "left": "30px",
    "top": "88px",
    "width": "392.003px"
   },
   "toc_section_display": true,
   "toc_window_display": true
  },
  "varInspector": {
   "cols": {
    "lenName": 16,
    "lenType": 16,
    "lenVar": 40
   },
   "kernels_config": {
    "python": {
     "delete_cmd_postfix": "",
     "delete_cmd_prefix": "del ",
     "library": "var_list.py",
     "varRefreshCmd": "print(var_dic_list())"
    },
    "r": {
     "delete_cmd_postfix": ") ",
     "delete_cmd_prefix": "rm(",
     "library": "var_list.r",
     "varRefreshCmd": "cat(var_dic_list()) "
    }
   },
   "types_to_exclude": [
    "module",
    "function",
    "builtin_function_or_method",
    "instance",
    "_Feature"
   ],
   "window_display": false
  }
 },
 "nbformat": 4,
 "nbformat_minor": 4
}
