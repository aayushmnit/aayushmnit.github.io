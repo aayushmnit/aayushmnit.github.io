{
 "cells": [
  {
   "cell_type": "markdown",
   "metadata": {},
   "source": [
    "---\n",
    "title: Python OOPs fundamentals\n",
    "author: Aayush Agrawal\n",
    "date: \"2022-12-20\"\n",
    "categories: [Python, Programming]\n",
    "image: \"Python-logo.png\"\n",
    "format:\n",
    "    html:\n",
    "        code-fold: false\n",
    "        number-sections: true     \n",
    "---"
   ]
  },
  {
   "cell_type": "markdown",
   "metadata": {},
   "source": [
    "> An introduction to Object Oriented programming using Python."
   ]
  },
  {
   "cell_type": "markdown",
   "metadata": {},
   "source": [
    "Increasingly it's becoming important for Data professionals to become better at programming and mordern programming is centered around Object Oriented programming paradigm. This articles helps in explaining some important programming concepts which are mostly language agnostic but we will be using Python in this article."
   ]
  },
  {
   "cell_type": "markdown",
   "metadata": {},
   "source": [
    "Object-oriented programming (OOPs) is a programming paradigm which relies on the concept of classes and objects. The basic idea of OOP is to divide a sophisticated program into a number of objects that interact with each other to achieve the desired functionality."
   ]
  },
  {
   "cell_type": "markdown",
   "metadata": {},
   "source": [
    "## What are `Objects` and `Classes`?"
   ]
  },
  {
   "cell_type": "markdown",
   "metadata": {},
   "source": [
    "`Classes` are the blue print of defining an `Object`. While `Object` are a collection of data/properties and their behaviors/methods. \n",
    "\n",
    "For example- Think of a class `Bulb` which will have a state (On/Off) and methods to turnOn and turnoff the bulb."
   ]
  },
  {
   "cell_type": "code",
   "execution_count": 6,
   "metadata": {
    "ExecuteTime": {
     "end_time": "2022-12-16T21:45:27.374096Z",
     "start_time": "2022-12-16T21:45:27.370947Z"
    }
   },
   "outputs": [],
   "source": [
    "class Bulb():\n",
    "    def __init__(self, onOff=False): self.onOff = onOff    \n",
    "    def turnOn(self): self.onOff = True\n",
    "    def turnOff(self): self.onOff = False"
   ]
  },
  {
   "cell_type": "markdown",
   "metadata": {},
   "source": [
    "Now we can create multiple bulb objects from this `Bulb` class."
   ]
  },
  {
   "cell_type": "code",
   "execution_count": 13,
   "metadata": {
    "ExecuteTime": {
     "end_time": "2022-12-16T22:47:16.342258Z",
     "start_time": "2022-12-16T22:47:16.338097Z"
    }
   },
   "outputs": [
    {
     "name": "stdout",
     "output_type": "stream",
     "text": [
      "Bulb 1 state is :True, Bulb 2 state is :False\n"
     ]
    }
   ],
   "source": [
    "b1 = Bulb(onOff=True)\n",
    "b2 = Bulb()\n",
    "print(f\"Bulb 1 state is :{b1.onOff}, Bulb 2 state is :{b2.onOff}\")"
   ]
  },
  {
   "cell_type": "markdown",
   "metadata": {},
   "source": [
    "b1 and b2 are objects of class `Bulb`. Let's use the turnOn and turnOff `methods` to update the bulb `properties`."
   ]
  },
  {
   "cell_type": "code",
   "execution_count": 14,
   "metadata": {
    "ExecuteTime": {
     "end_time": "2022-12-16T22:47:17.563648Z",
     "start_time": "2022-12-16T22:47:17.560081Z"
    }
   },
   "outputs": [
    {
     "name": "stdout",
     "output_type": "stream",
     "text": [
      "Bulb 1 state is :False, Bulb 2 state is :True\n"
     ]
    }
   ],
   "source": [
    "b1.turnOff(); b2.turnOn()\n",
    "print(f\"Bulb 1 state is :{b1.onOff}, Bulb 2 state is :{b2.onOff}\")"
   ]
  },
  {
   "cell_type": "markdown",
   "metadata": {},
   "source": [
    "As we can see from the example above, a `Bulb` object contains of `onOff` property. `Properties` are variables that contain information regarding the object of a class and `Methods` like turnOn and turnOff in our `Bulb` class are functions that have access to `properties` of a class. `Methods` can accept additional parameters, modify properties and return values.  "
   ]
  },
  {
   "cell_type": "markdown",
   "metadata": {
    "ExecuteTime": {
     "end_time": "2022-12-16T22:57:39.462040Z",
     "start_time": "2022-12-16T22:57:39.459382Z"
    }
   },
   "source": [
    "## Class and Instance variables"
   ]
  },
  {
   "cell_type": "markdown",
   "metadata": {},
   "source": [
    "In Python, properties can be defined in two ways - \n",
    "\n",
    "- **Class Variables** - Class variables are shared by all objects of the class. A change in the class variable will change the value of that property in **all the objects of the class**.\n",
    "- **Instance Varaibles** - Instance variables are unique to each instance or object of the class. A change in instance variable will change the value of the property in that specific object only."
   ]
  },
  {
   "cell_type": "code",
   "execution_count": 27,
   "metadata": {
    "ExecuteTime": {
     "end_time": "2022-12-16T23:45:54.362708Z",
     "start_time": "2022-12-16T23:45:54.358328Z"
    }
   },
   "outputs": [
    {
     "name": "stdout",
     "output_type": "stream",
     "text": [
      "Name :Aayush\n",
      "Company Name: Microsoft\n",
      "Name :John\n",
      "Company Name: Microsoft\n"
     ]
    }
   ],
   "source": [
    "class Employee:\n",
    "    # Creating a class variable\n",
    "    companyName = \"Microsoft\"\n",
    "    \n",
    "    def __init__(self, name):\n",
    "        # creating a instance variable\n",
    "        self.name = name\n",
    "    \n",
    "e1 = Employee('Aayush')\n",
    "e2 = Employee('John')\n",
    "\n",
    "print(f'Name :{e1.name}')\n",
    "print(f'Company Name: {e1.companyName}')\n",
    "print(f'Name :{e2.name}')\n",
    "print(f'Company Name: {e2.companyName}')"
   ]
  },
  {
   "cell_type": "markdown",
   "metadata": {},
   "source": [
    "As we can see above, class variable are defined outside of the initializer and instance variable are defined inside the initializer."
   ]
  },
  {
   "cell_type": "code",
   "execution_count": 28,
   "metadata": {
    "ExecuteTime": {
     "end_time": "2022-12-16T23:45:55.562597Z",
     "start_time": "2022-12-16T23:45:55.559445Z"
    }
   },
   "outputs": [
    {
     "name": "stdout",
     "output_type": "stream",
     "text": [
      "Amazon Amazon\n"
     ]
    }
   ],
   "source": [
    "Employee.companyName = \"Amazon\"\n",
    "print(e1.companyName, e2.companyName)"
   ]
  },
  {
   "cell_type": "markdown",
   "metadata": {
    "ExecuteTime": {
     "end_time": "2022-12-16T23:44:54.878984Z",
     "start_time": "2022-12-16T23:44:54.874981Z"
    }
   },
   "source": [
    "As we can see above changing a class variable in the Employee class changes class variable in all objects objects of the class. Most of the times we will be using instance variable but knowledge about class variables can come handy. Let's look at a interesting use of class variable -"
   ]
  },
  {
   "cell_type": "code",
   "execution_count": 30,
   "metadata": {
    "ExecuteTime": {
     "end_time": "2022-12-16T23:51:13.987851Z",
     "start_time": "2022-12-16T23:51:13.983102Z"
    }
   },
   "outputs": [
    {
     "name": "stdout",
     "output_type": "stream",
     "text": [
      "Name :Aayush\n",
      "Team Members: ['Aayush', 'John']\n",
      "Name :John\n",
      "Company Name: ['Aayush', 'John']\n"
     ]
    }
   ],
   "source": [
    "class Employee:\n",
    "    # Creating a class variable\n",
    "    companyName = \"Microsoft\"\n",
    "    companyEmployees = []\n",
    "    \n",
    "    def __init__(self, name):\n",
    "        # creating a instance variable\n",
    "        self.name = name\n",
    "        self.companyEmployees.append(self.name)\n",
    "    \n",
    "e1 = Employee('Aayush')\n",
    "e2 = Employee('John')\n",
    "\n",
    "print(f'Name :{e1.name}')\n",
    "print(f'Team Members: {e1.companyEmployees}')\n",
    "print(f'Name :{e2.name}')\n",
    "print(f'Company Name: {e2.companyEmployees}')"
   ]
  },
  {
   "cell_type": "markdown",
   "metadata": {},
   "source": [
    "As we can see above, we are saving all objects of `Employee` class in `companyEmployees` which is a list shared by all objects of the class `Employee`."
   ]
  },
  {
   "cell_type": "markdown",
   "metadata": {
    "ExecuteTime": {
     "end_time": "2022-12-16T23:56:03.254314Z",
     "start_time": "2022-12-16T23:56:03.251427Z"
    }
   },
   "source": [
    "## Class, Static and Instance methods"
   ]
  },
  {
   "cell_type": "markdown",
   "metadata": {},
   "source": [
    "In Python classes, we have three types of methods - \n",
    "\n",
    "- **Class Methods** - Class methods works with class variables and are accessible using the class name rather than its object.\n",
    "- **Static Methods** - Static methods are methods \n",
    "- **Instance Methods** - "
   ]
  },
  {
   "cell_type": "markdown",
   "metadata": {},
   "source": [
    "## TBC.."
   ]
  }
 ],
 "metadata": {
  "kernelspec": {
   "display_name": "Python 3",
   "language": "python",
   "name": "python3"
  },
  "language_info": {
   "codemirror_mode": {
    "name": "ipython",
    "version": 3
   },
   "file_extension": ".py",
   "mimetype": "text/x-python",
   "name": "python",
   "nbconvert_exporter": "python",
   "pygments_lexer": "ipython3",
   "version": "3.8.3"
  },
  "toc": {
   "base_numbering": 1,
   "nav_menu": {},
   "number_sections": true,
   "sideBar": true,
   "skip_h1_title": false,
   "title_cell": "Table of Contents",
   "title_sidebar": "Contents",
   "toc_cell": false,
   "toc_position": {
    "height": "991.804px",
    "left": "30px",
    "top": "88px",
    "width": "392.003px"
   },
   "toc_section_display": true,
   "toc_window_display": true
  }
 },
 "nbformat": 4,
 "nbformat_minor": 4
}
