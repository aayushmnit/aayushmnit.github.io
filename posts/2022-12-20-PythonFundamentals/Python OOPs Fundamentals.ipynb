{
 "cells": [
  {
   "cell_type": "markdown",
   "metadata": {},
   "source": [
    "---\n",
    "title: Python OOPs fundamentals\n",
    "author: Aayush Agrawal\n",
    "date: \"2022-12-20\"\n",
    "categories: [Programming]\n",
    "image: \"Python-logo.png\"\n",
    "format:\n",
    "    html:\n",
    "        code-fold: false\n",
    "        number-sections: true     \n",
    "---"
   ]
  },
  {
   "cell_type": "markdown",
   "metadata": {},
   "source": [
    "> An introduction to Object Oriented programming using Python."
   ]
  },
  {
   "cell_type": "markdown",
   "metadata": {},
   "source": [
    "Increasingly it's becoming important for Data professionals to become better at programming and modern programming is centered around Object Oriented programming paradigm. This article helps in explaining some important programming concepts which are mostly language agnostic but we will be using Python in this article."
   ]
  },
  {
   "cell_type": "markdown",
   "metadata": {},
   "source": [
    "Object-oriented programming (OOPs) is a programming paradigm that relies on the concept of classes and objects. The basic idea of OOP is to divide a sophisticated program into a number of objects that interact with each other to achieve the desired functionality. There are several advantages of using OOP for data science:\n",
    "\n",
    "- __Encapsulation__: OOPs allow you to wrap data and the methods that operate on that data within a single unit (i.e., an object). This makes it easier to organize and manage your code, as well as protect the data from accidental modification.\n",
    "- __Code reusability__: OOPs allow you to create reusable code by defining classes that can be used to create multiple objects with the same behavior. This makes it easier to develop and maintain your code, as you can reuse existing code instead of writing new code from scratch.\n",
    "- __Modularity__: OOPs allow you to divide your code into smaller, modular units (i.e., objects). This makes it easier to understand and maintain your code, as you can focus on one piece of functionality at a time.\n",
    "- __Inheritance__: OOPs allow you to create a new class that is a modified version of an existing class. This allows you to reuse code from the existing class and override or extend it as needed. This can save time and reduce the amount of code you need to write.\n",
    "\n",
    "Overall, OOP can help data professionals organize and manage their code more effectively, making it easier to develop and maintain data science projects. Let's dive into the OOPs concept."
   ]
  },
  {
   "cell_type": "markdown",
   "metadata": {},
   "source": [
    "## What are `Objects` and `Classes`?"
   ]
  },
  {
   "cell_type": "markdown",
   "metadata": {},
   "source": [
    "`Classes` are the blueprint for defining an `Object`. While an `Object` is a collection of data/properties and their behaviors/methods. \n",
    "\n",
    "For example- Think of a class `Bulb` that will have a state (On/Off) and methods to turnOn and turnoff the bulb."
   ]
  },
  {
   "cell_type": "code",
   "execution_count": 6,
   "metadata": {
    "ExecuteTime": {
     "end_time": "2022-12-16T21:45:27.374096Z",
     "start_time": "2022-12-16T21:45:27.370947Z"
    }
   },
   "outputs": [],
   "source": [
    "class Bulb():\n",
    "    def __init__(self, onOff=False): self.onOff = onOff    \n",
    "    def turnOn(self): self.onOff = True\n",
    "    def turnOff(self): self.onOff = False"
   ]
  },
  {
   "cell_type": "markdown",
   "metadata": {},
   "source": [
    "Now we can create multiple bulb objects from this `Bulb` class."
   ]
  },
  {
   "cell_type": "code",
   "execution_count": 13,
   "metadata": {
    "ExecuteTime": {
     "end_time": "2022-12-16T22:47:16.342258Z",
     "start_time": "2022-12-16T22:47:16.338097Z"
    }
   },
   "outputs": [
    {
     "name": "stdout",
     "output_type": "stream",
     "text": [
      "Bulb 1 state is :True, Bulb 2 state is :False\n"
     ]
    }
   ],
   "source": [
    "b1 = Bulb(onOff=True)\n",
    "b2 = Bulb()\n",
    "print(f\"Bulb 1 state is :{b1.onOff}, Bulb 2 state is :{b2.onOff}\")"
   ]
  },
  {
   "cell_type": "markdown",
   "metadata": {},
   "source": [
    "b1 and b2 are objects of the class `Bulb`. Let's use the turnOn and turnOff `methods` to update the bulb `properties`."
   ]
  },
  {
   "cell_type": "code",
   "execution_count": 14,
   "metadata": {
    "ExecuteTime": {
     "end_time": "2022-12-16T22:47:17.563648Z",
     "start_time": "2022-12-16T22:47:17.560081Z"
    }
   },
   "outputs": [
    {
     "name": "stdout",
     "output_type": "stream",
     "text": [
      "Bulb 1 state is :False, Bulb 2 state is :True\n"
     ]
    }
   ],
   "source": [
    "b1.turnOff(); b2.turnOn()\n",
    "print(f\"Bulb 1 state is :{b1.onOff}, Bulb 2 state is :{b2.onOff}\")"
   ]
  },
  {
   "cell_type": "markdown",
   "metadata": {},
   "source": [
    "We can see from the example above, a `Bulb` object contains the `onOff` property. `Properties` are variables that contain information regarding the object of a class and `Methods` like turnOn and turnOff in our `Bulb` class are functions that have access to the `properties` of a class. `Methods` can accept additional parameters, modify properties and return values.  "
   ]
  },
  {
   "cell_type": "markdown",
   "metadata": {
    "ExecuteTime": {
     "end_time": "2022-12-16T22:57:39.462040Z",
     "start_time": "2022-12-16T22:57:39.459382Z"
    }
   },
   "source": [
    "## Class and Instance variables"
   ]
  },
  {
   "cell_type": "markdown",
   "metadata": {},
   "source": [
    "In Python, properties can be defined in two ways - \n",
    "\n",
    "- **Class Variables** - Class variables are shared by all objects of the class. A change in the class variable will change the value of that property in **all the objects of the class**.\n",
    "- **Instance Variables** - Instance variables are unique to each instance or object of the class. A change in instance variable will change the value of the property in that specific object only."
   ]
  },
  {
   "cell_type": "code",
   "execution_count": 27,
   "metadata": {
    "ExecuteTime": {
     "end_time": "2022-12-16T23:45:54.362708Z",
     "start_time": "2022-12-16T23:45:54.358328Z"
    }
   },
   "outputs": [
    {
     "name": "stdout",
     "output_type": "stream",
     "text": [
      "Name :Aayush\n",
      "Company Name: Microsoft\n",
      "Name :John\n",
      "Company Name: Microsoft\n"
     ]
    }
   ],
   "source": [
    "class Employee:\n",
    "    # Creating a class variable\n",
    "    companyName = \"Microsoft\"\n",
    "    \n",
    "    def __init__(self, name):\n",
    "        # creating a instance variable\n",
    "        self.name = name\n",
    "    \n",
    "e1 = Employee('Aayush')\n",
    "e2 = Employee('John')\n",
    "\n",
    "print(f'Name :{e1.name}')\n",
    "print(f'Company Name: {e1.companyName}')\n",
    "print(f'Name :{e2.name}')\n",
    "print(f'Company Name: {e2.companyName}')"
   ]
  },
  {
   "cell_type": "markdown",
   "metadata": {},
   "source": [
    "We can see above, the class variable is defined outside of the initializer and the instance variable is defined inside the initializer."
   ]
  },
  {
   "cell_type": "code",
   "execution_count": 28,
   "metadata": {
    "ExecuteTime": {
     "end_time": "2022-12-16T23:45:55.562597Z",
     "start_time": "2022-12-16T23:45:55.559445Z"
    }
   },
   "outputs": [
    {
     "name": "stdout",
     "output_type": "stream",
     "text": [
      "Amazon Amazon\n"
     ]
    }
   ],
   "source": [
    "Employee.companyName = \"Amazon\"\n",
    "print(e1.companyName, e2.companyName)"
   ]
  },
  {
   "cell_type": "markdown",
   "metadata": {
    "ExecuteTime": {
     "end_time": "2022-12-16T23:44:54.878984Z",
     "start_time": "2022-12-16T23:44:54.874981Z"
    }
   },
   "source": [
    "We can see above changing a class variable in the Employee class changes the class variable in all objects of the class. Most of the time we will be using instance variables but knowledge about class variables can come in handy. Let's look at an interesting use of class variable -"
   ]
  },
  {
   "cell_type": "code",
   "execution_count": 30,
   "metadata": {
    "ExecuteTime": {
     "end_time": "2022-12-16T23:51:13.987851Z",
     "start_time": "2022-12-16T23:51:13.983102Z"
    }
   },
   "outputs": [
    {
     "name": "stdout",
     "output_type": "stream",
     "text": [
      "Name :Aayush\n",
      "Team Members: ['Aayush', 'John']\n",
      "Name :John\n",
      "Company Name: ['Aayush', 'John']\n"
     ]
    }
   ],
   "source": [
    "class Employee:\n",
    "    # Creating a class variable\n",
    "    companyName = \"Microsoft\"\n",
    "    companyEmployees = []\n",
    "    \n",
    "    def __init__(self, name):\n",
    "        # creating a instance variable\n",
    "        self.name = name\n",
    "        self.companyEmployees.append(self.name)\n",
    "    \n",
    "e1 = Employee('Aayush')\n",
    "e2 = Employee('John')\n",
    "\n",
    "print(f'Name :{e1.name}')\n",
    "print(f'Team Members: {e1.companyEmployees}')\n",
    "print(f'Name :{e2.name}')\n",
    "print(f'Company Name: {e2.companyEmployees}')"
   ]
  },
  {
   "cell_type": "markdown",
   "metadata": {},
   "source": [
    "We can see above, we are saving all objects of the `Employee` class in `companyEmployees` which is a list shared by all objects of the class `Employee`."
   ]
  },
  {
   "cell_type": "markdown",
   "metadata": {
    "ExecuteTime": {
     "end_time": "2022-12-16T23:56:03.254314Z",
     "start_time": "2022-12-16T23:56:03.251427Z"
    }
   },
   "source": [
    "## Class, Static and Instance methods"
   ]
  },
  {
   "cell_type": "markdown",
   "metadata": {},
   "source": [
    "In Python classes, we have three types of methods - \n",
    "\n",
    "- **Class Methods** - Class methods work with class variables and are accessible using the class name rather than its object.\n",
    "- **Static Methods** - Static methods are methods that are usually limited to class only and not their objects. They don't typically modify or access class and instance variables. They are used as utility functions inside the class and we don't want the inherited class to modify them.\n",
    "- **Instance Methods** - Instance methods are the most used methods and have access to instance variables within the class. They can also take new parameters to perform desired operations."
   ]
  },
  {
   "cell_type": "code",
   "execution_count": 5,
   "metadata": {
    "ExecuteTime": {
     "end_time": "2022-12-18T01:20:29.445420Z",
     "start_time": "2022-12-18T01:20:29.442115Z"
    }
   },
   "outputs": [
    {
     "name": "stdout",
     "output_type": "stream",
     "text": [
      "Calling class method. Company name is Microsoft\n",
      "Calling Static method. 4\n",
      "Calling instance method. Employee name is Aayush\n"
     ]
    }
   ],
   "source": [
    "class Employee:\n",
    "    # Creating a class variable\n",
    "    companyName = \"Microsoft\"\n",
    "    companyEmployees = []\n",
    "    \n",
    "    def __init__(self, name):\n",
    "        # creating a instance variable\n",
    "        self.name = name\n",
    "        self.companyEmployees.append(self.name)\n",
    "    \n",
    "    @classmethod\n",
    "    def getCompanyName(cls): # This is a class method\n",
    "         return cls.companyName\n",
    "    \n",
    "    @staticmethod\n",
    "    def plusTwo(x): # This is a static method\n",
    "        return x+2\n",
    "    \n",
    "    def getName(self): # This is a instance method\n",
    "        return self.name\n",
    "    \n",
    "e1 = Employee('Aayush')\n",
    "print(f\"Calling class method. Company name is {e1.getCompanyName()}\")\n",
    "print(f\"Calling Static method. {e1.plusTwo(2)}\")\n",
    "print(f\"Calling instance method. Employee name is {e1.getName()}\")"
   ]
  },
  {
   "cell_type": "markdown",
   "metadata": {},
   "source": [
    "We can see above we use the `@classmethod` decorator to define the class method. `cls` is used to refer to the class just as `self` is used to refer to the object of the class. The class method at least takes one argument `cls`.\n",
    "\n",
    ":::{.callout-note}\n",
    "We can use any other name instead of `cls` but `cls` is used as a convention. \n",
    ":::\n"
   ]
  },
  {
   "cell_type": "markdown",
   "metadata": {},
   "source": [
    "We use `@staticmethod` decorator to define static class `plusTwo`. We can see that static methods don't take any argument like `self` and `cls`."
   ]
  },
  {
   "cell_type": "markdown",
   "metadata": {},
   "source": [
    "The most commonly used methods are instance methods and they can be defined without a decorator within the class. Just like the class method they take at least one argument which is `self` by convention. \n",
    "\n",
    ":::{.callout-note}\n",
    "We can use any other name instead of `self` but `self` is used as a convention. \n",
    ":::"
   ]
  },
  {
   "cell_type": "markdown",
   "metadata": {},
   "source": [
    "## Access Modifiers"
   ]
  },
  {
   "cell_type": "markdown",
   "metadata": {},
   "source": [
    "Access modifiers limit access to the variables and functions of a class. There are three types of access modifiers - public, protected, and private."
   ]
  },
  {
   "cell_type": "markdown",
   "metadata": {},
   "source": [
    "### Public Attributes"
   ]
  },
  {
   "cell_type": "markdown",
   "metadata": {},
   "source": [
    "Public attributes are those methods and properties which can be accessed anywhere inside and outside of the class. By default, all the member variables and functions are public."
   ]
  },
  {
   "cell_type": "code",
   "execution_count": 8,
   "metadata": {
    "ExecuteTime": {
     "end_time": "2022-12-18T01:44:02.728790Z",
     "start_time": "2022-12-18T01:44:02.725726Z"
    }
   },
   "outputs": [
    {
     "name": "stdout",
     "output_type": "stream",
     "text": [
      "Employee Name: Aayush\n"
     ]
    }
   ],
   "source": [
    "class Employee:\n",
    "    def __init__(self, name):\n",
    "        self.name = name ## Public variable\n",
    "        \n",
    "    def getName(self): ## Public method\n",
    "        return self.name\n",
    "\n",
    "e1 = Employee(\"Aayush\")\n",
    "print(f\"Employee Name: {e1.getName()}\")"
   ]
  },
  {
   "cell_type": "markdown",
   "metadata": {},
   "source": [
    "In the case above, both property `name` and method `getName` are public attributes."
   ]
  },
  {
   "cell_type": "markdown",
   "metadata": {},
   "source": [
    "### Protected Attributes"
   ]
  },
  {
   "cell_type": "markdown",
   "metadata": {},
   "source": [
    "Protected attributes are similar to public attributes which can be accessed within the class and also available to subclasses. The only difference is the convention, which is to define each protected member with a _single underscore \"\\_\"_."
   ]
  },
  {
   "cell_type": "code",
   "execution_count": 10,
   "metadata": {
    "ExecuteTime": {
     "end_time": "2022-12-18T01:50:51.009175Z",
     "start_time": "2022-12-18T01:50:51.005784Z"
    }
   },
   "outputs": [
    {
     "name": "stdout",
     "output_type": "stream",
     "text": [
      "Employee Name: Aayush\n",
      "Project Name: Project Orland\n"
     ]
    }
   ],
   "source": [
    "class Employee:\n",
    "    def __init__(self, name, project):\n",
    "        self.name = name ## Public variable\n",
    "        self._project = project ## Protected variable\n",
    "        \n",
    "    def getName(self): ## Public method\n",
    "        return self.name\n",
    "    \n",
    "    def _getProject(self): ## Protected method\n",
    "        return self._project\n",
    "    \n",
    "e1 = Employee(\"Aayush\", \"Project Orland\")\n",
    "print(f\"Employee Name: {e1.getName()}\")\n",
    "print(f\"Project Name: {e1._getProject()}\")"
   ]
  },
  {
   "cell_type": "markdown",
   "metadata": {
    "ExecuteTime": {
     "end_time": "2022-12-18T01:51:41.040190Z",
     "start_time": "2022-12-18T01:51:41.037247Z"
    }
   },
   "source": [
    "In the case above, both property `_project` and method `_getProject` are protected attributes."
   ]
  },
  {
   "cell_type": "markdown",
   "metadata": {},
   "source": [
    "### Private Attributes"
   ]
  },
  {
   "cell_type": "markdown",
   "metadata": {},
   "source": [
    "Private attributes are accessible within the class but not outside of the class. To define a private attribute, prefix the method or property with the _double underscore\"\\_\"_."
   ]
  },
  {
   "cell_type": "code",
   "execution_count": 14,
   "metadata": {
    "ExecuteTime": {
     "end_time": "2022-12-18T02:05:42.643814Z",
     "start_time": "2022-12-18T02:05:42.633066Z"
    }
   },
   "outputs": [
    {
     "name": "stdout",
     "output_type": "stream",
     "text": [
      "Employee Name: Aayush\n"
     ]
    },
    {
     "ename": "AttributeError",
     "evalue": "'Employee' object has no attribute '__getSalary'",
     "output_type": "error",
     "traceback": [
      "\u001b[0;31m---------------------------------------------------------------------------\u001b[0m",
      "\u001b[0;31mAttributeError\u001b[0m                            Traceback (most recent call last)",
      "Input \u001b[0;32mIn [14]\u001b[0m, in \u001b[0;36m<cell line: 18>\u001b[0;34m()\u001b[0m\n\u001b[1;32m     16\u001b[0m e1 \u001b[38;5;241m=\u001b[39m Employee(\u001b[38;5;124m\"\u001b[39m\u001b[38;5;124mAayush\u001b[39m\u001b[38;5;124m\"\u001b[39m, \u001b[38;5;124m\"\u001b[39m\u001b[38;5;124mProject Orland\u001b[39m\u001b[38;5;124m\"\u001b[39m, \u001b[38;5;124m\"\u001b[39m\u001b[38;5;124m3500\u001b[39m\u001b[38;5;124m\"\u001b[39m)\n\u001b[1;32m     17\u001b[0m \u001b[38;5;28mprint\u001b[39m(\u001b[38;5;124mf\u001b[39m\u001b[38;5;124m\"\u001b[39m\u001b[38;5;124mEmployee Name: \u001b[39m\u001b[38;5;132;01m{\u001b[39;00me1\u001b[38;5;241m.\u001b[39mgetName()\u001b[38;5;132;01m}\u001b[39;00m\u001b[38;5;124m\"\u001b[39m)\n\u001b[0;32m---> 18\u001b[0m \u001b[38;5;28mprint\u001b[39m(\u001b[38;5;124mf\u001b[39m\u001b[38;5;124m\"\u001b[39m\u001b[38;5;124mProject Name: \u001b[39m\u001b[38;5;132;01m{\u001b[39;00me1\u001b[38;5;241m.\u001b[39m__getSalary()\u001b[38;5;132;01m}\u001b[39;00m\u001b[38;5;124m\"\u001b[39m)\n",
      "\u001b[0;31mAttributeError\u001b[0m: 'Employee' object has no attribute '__getSalary'"
     ]
    }
   ],
   "source": [
    "class Employee:\n",
    "    def __init__(self, name, project, salary):\n",
    "        self.name = name ## Public variable\n",
    "        self._project = project ## Protected variable\n",
    "        self.__salary = salary\n",
    "        \n",
    "    def getName(self): ## Public method\n",
    "        return self.name\n",
    "    \n",
    "    def _getProject(self): ## Protected method\n",
    "        return self._project\n",
    "    \n",
    "    def __getSalary(self): ## Protected method\n",
    "        return self.__salary\n",
    "    \n",
    "e1 = Employee(\"Aayush\", \"Project Orland\", \"3500\")\n",
    "print(f\"Employee Name: {e1.getName()}\")\n",
    "print(f\"Project Name: {e1.__getSalary()}\") "
   ]
  },
  {
   "cell_type": "markdown",
   "metadata": {},
   "source": [
    "We can see above, `__salary` property and `__getSalary` method are both private attributes and when we call them outside of the class they throw an error that the `'Employee' object has no attribute '__getSalary'`."
   ]
  },
  {
   "cell_type": "markdown",
   "metadata": {},
   "source": [
    "## Encapsulation"
   ]
  },
  {
   "cell_type": "markdown",
   "metadata": {},
   "source": [
    "Encapsulation in OOP refers to binding data and the methods to manipulate that data together in a single unit, that is, class. Encapsulation is usually used to hide the state and representation of the object from the outside. A good use of encapsulation is to make all properties private of a class to prevent direct access from outside and use public methods to let the outside world communicate with the class."
   ]
  },
  {
   "cell_type": "code",
   "execution_count": 2,
   "metadata": {
    "ExecuteTime": {
     "end_time": "2022-12-19T00:16:38.148831Z",
     "start_time": "2022-12-19T00:16:38.145703Z"
    }
   },
   "outputs": [
    {
     "name": "stdout",
     "output_type": "stream",
     "text": [
      "Employee Name: Aayush\n"
     ]
    }
   ],
   "source": [
    "class Employee:\n",
    "    def __init__(self, name, project, salary):\n",
    "        self.__name = name ## Public variable\n",
    "        self.__project = project ## Protected variable\n",
    "        self.__salary = salary\n",
    "        \n",
    "    def getName(self): ## Public method\n",
    "        return self.__name\n",
    "    \n",
    "e1 = Employee(\"Aayush\", \"Project Orland\", \"3500\")\n",
    "print(f\"Employee Name: {e1.getName()}\")"
   ]
  },
  {
   "cell_type": "markdown",
   "metadata": {},
   "source": [
    "Encapsulation has several advantages - \n",
    "\n",
    "- Properties of the class can be hidden from the outside world\n",
    "- More control over what the outside world can access from the class"
   ]
  },
  {
   "cell_type": "markdown",
   "metadata": {},
   "source": [
    "A good example of encapsulation would be an access control class based on username and password."
   ]
  },
  {
   "cell_type": "code",
   "execution_count": 4,
   "metadata": {
    "ExecuteTime": {
     "end_time": "2022-12-19T00:25:18.106050Z",
     "start_time": "2022-12-19T00:25:18.095247Z"
    }
   },
   "outputs": [
    {
     "name": "stdout",
     "output_type": "stream",
     "text": [
      "Access granted to Aayush\n",
      "Invalid credentials\n"
     ]
    },
    {
     "ename": "AttributeError",
     "evalue": "'Auth' object has no attribute '__password'",
     "output_type": "error",
     "traceback": [
      "\u001b[0;31m---------------------------------------------------------------------------\u001b[0m",
      "\u001b[0;31mAttributeError\u001b[0m                            Traceback (most recent call last)",
      "Input \u001b[0;32mIn [4]\u001b[0m, in \u001b[0;36m<cell line: 16>\u001b[0;34m()\u001b[0m\n\u001b[1;32m     13\u001b[0m e1\u001b[38;5;241m.\u001b[39mlogin(\u001b[38;5;124m\"\u001b[39m\u001b[38;5;124mAayush\u001b[39m\u001b[38;5;124m\"\u001b[39m, \u001b[38;5;124m\"\u001b[39m\u001b[38;5;124mwhatever\u001b[39m\u001b[38;5;124m\"\u001b[39m) \u001b[38;5;66;03m## This will grant access\u001b[39;00m\n\u001b[1;32m     15\u001b[0m e1\u001b[38;5;241m.\u001b[39mlogin(\u001b[38;5;124m\"\u001b[39m\u001b[38;5;124mAayush\u001b[39m\u001b[38;5;124m\"\u001b[39m, \u001b[38;5;124m\"\u001b[39m\u001b[38;5;124maasdasd\u001b[39m\u001b[38;5;124m\"\u001b[39m) \u001b[38;5;66;03m## This will say invalid creds\u001b[39;00m\n\u001b[0;32m---> 16\u001b[0m \u001b[43me1\u001b[49m\u001b[38;5;241;43m.\u001b[39;49m\u001b[43m__password\u001b[49m\n",
      "\u001b[0;31mAttributeError\u001b[0m: 'Auth' object has no attribute '__password'"
     ]
    }
   ],
   "source": [
    "class Auth:\n",
    "    def __init__(self, userName=None, password=None):\n",
    "        self.__userName = userName\n",
    "        self.__password = password\n",
    "        \n",
    "    def login(self, userName, password):\n",
    "        if (self.__userName == userName) and (self.__password == password):\n",
    "            print (f\"Access granted to {userName}\")\n",
    "        else:\n",
    "            print(\"Invalid credentials\")\n",
    "            \n",
    "e1 = Auth(\"Aayush\", \"whatever\")\n",
    "e1.login(\"Aayush\", \"whatever\") ## This will grant access\n",
    "\n",
    "e1.login(\"Aayush\", \"aasdasd\") ## This will say invalid creds\n",
    "e1.__password ## This will raise an error as private properties can't be accessed from outside."
   ]
  },
  {
   "cell_type": "markdown",
   "metadata": {},
   "source": [
    "As we can see above `__username` and `__password` are  protected properties and can only be used by the class to grand or reject access requests."
   ]
  },
  {
   "cell_type": "markdown",
   "metadata": {},
   "source": [
    "## Inheritance"
   ]
  },
  {
   "cell_type": "markdown",
   "metadata": {},
   "source": [
    "Inheritance provides a way to create new classes from the existing classes. The new class will inherit all the non-private attributes(properties and methods) from the existing class. The new class can be called a child class and the existing class can be called a parent class."
   ]
  },
  {
   "cell_type": "code",
   "execution_count": 2,
   "metadata": {
    "ExecuteTime": {
     "end_time": "2022-12-19T19:45:28.243236Z",
     "start_time": "2022-12-19T19:45:28.237706Z"
    }
   },
   "outputs": [
    {
     "name": "stdout",
     "output_type": "stream",
     "text": [
      "This shape is called Square and area is 16.\n",
      "This shape is called Circle and area is 28.274333882308138.\n"
     ]
    }
   ],
   "source": [
    "import math\n",
    "class Shape:\n",
    "    def __init__(self, name):\n",
    "        self.name = name\n",
    "        \n",
    "    def getArea(self):\n",
    "        pass\n",
    "    \n",
    "    def printDetails(self):\n",
    "        print(f\"This shape is called {self.name} and area is {self.getArea()}.\")\n",
    "        \n",
    "class Square(Shape):\n",
    "    def __init__(self, edge):\n",
    "        ## calling the constructor from parent class Shape\n",
    "        Shape.__init__(self, name = \"Square\")\n",
    "        self.edge = edge\n",
    "    \n",
    "    ## Overiding the getArea function\n",
    "    def getArea(self):\n",
    "        return self.edge**2\n",
    "    \n",
    "class Circle(Shape):\n",
    "    def __init__(self, radius):\n",
    "        ## calling the constructor from parent class Shape\n",
    "        Shape.__init__(self, name = \"Circle\")\n",
    "        self.radius = radius\n",
    "    ## Overiding the getArea function\n",
    "    def getArea(self):\n",
    "        return math.pi * (self.radius**2)\n",
    "    \n",
    "obj1 = Square(4)\n",
    "obj1.printDetails()\n",
    "\n",
    "obj2 = Circle(3)\n",
    "obj2.printDetails()"
   ]
  },
  {
   "cell_type": "markdown",
   "metadata": {},
   "source": [
    "We can see above we defined a parent class `Shape` and then we inherited it to create a `Square` and `Circle` child class. While defining the `Square` and `Circle` class we overwrote the `getArea` function pertinent to the class but we used the `printDetails` function from the parent class to print details about child classes. The more common example in the machine learning world would be to create your own models in Pytorch where we inherit from `nn.Module` class to create a new model."
   ]
  },
  {
   "cell_type": "markdown",
   "metadata": {},
   "source": [
    "### Use of `super()` Function"
   ]
  },
  {
   "cell_type": "markdown",
   "metadata": {},
   "source": [
    "`super()` function comes into play when we implement inheritance. The `super()` function is used to refer to the parent class without explicitly naming the class. `super()` function can be used to access parent class properties, calling the parent class, and can be used as initializers. Let's look at the example above and see how we can modify the `Square` class to use `super()` function."
   ]
  },
  {
   "cell_type": "code",
   "execution_count": 1,
   "metadata": {
    "ExecuteTime": {
     "end_time": "2023-01-07T16:08:07.343599Z",
     "start_time": "2023-01-07T16:08:07.339935Z"
    }
   },
   "outputs": [
    {
     "name": "stdout",
     "output_type": "stream",
     "text": [
      "This shape is called Square and area is 16.\n",
      "Max area from Shape class: 100\n",
      "Max area from Square class: 50\n"
     ]
    }
   ],
   "source": [
    "class Shape:\n",
    "    maxArea = 100\n",
    "    def __init__(self, name): self.name = name\n",
    "    def getArea(self): pass\n",
    "    def printDetails(self): \n",
    "        print(f\"This shape is called {self.name} and area is {self.getArea()}.\")\n",
    "        \n",
    "\n",
    "class Square(Shape):\n",
    "    maxArea = 50\n",
    "    def __init__(self, edge):\n",
    "        super().__init__(name = \"Square\") ## Initializing parent class\n",
    "        self.edge = edge\n",
    "    \n",
    "    def getName(self):\n",
    "        return super().maxArea\n",
    "    \n",
    "    def getArea(self):\n",
    "        return self.edge**2\n",
    "    \n",
    "    def printDetails(self):\n",
    "        super().printDetails() ## Calling a parent class function\n",
    "        print(f\"Max area from Shape class: {super().maxArea}\") ## Accessing parent class property\n",
    "        print(f\"Max area from Square class: {self.maxArea}\")\n",
    "\n",
    "obj1 = Square(4)\n",
    "obj1.getName()\n",
    "obj1.printDetails()"
   ]
  },
  {
   "cell_type": "markdown",
   "metadata": {},
   "source": [
    "As we can see in the example above we have used -\n",
    "\n",
    "- `super().__init__` to initialize the parent `Shape` class \n",
    "- `super().printDetails()` function to use a method from parent class\n",
    "- `super().maxArea` to access a property of a parent class"
   ]
  },
  {
   "cell_type": "markdown",
   "metadata": {},
   "source": [
    "There are many advantages of inheritance -\n",
    "\n",
    "1. __Reusability__ - Inheritance makes the code reusable. Common methods and properties can be stored in a parent class and child classes can inherit these methods. \n",
    "2. __Modification__ - Code modification becomes easier if we use inheritance, if we want to make a change in the base class function it will be propagated to the child classes.\n",
    "3. __Extensibility__ - We can derive new classes from the old ones by keeping things we need in the derived class."
   ]
  },
  {
   "cell_type": "markdown",
   "metadata": {},
   "source": [
    "## Polymorphism"
   ]
  },
  {
   "cell_type": "markdown",
   "metadata": {},
   "source": [
    "Polymorphism refers to the same object exhibiting different forms and behaviors. For example consider our shape class which could be a square, rectangle, polygon, etc. Instead of writing multiple functions to get the area of these shapes, we can use a common function like getArea() and implement this function in the derived class."
   ]
  },
  {
   "cell_type": "code",
   "execution_count": 8,
   "metadata": {
    "ExecuteTime": {
     "end_time": "2022-12-19T21:31:28.758171Z",
     "start_time": "2022-12-19T21:31:28.751938Z"
    }
   },
   "outputs": [
    {
     "name": "stdout",
     "output_type": "stream",
     "text": [
      "Area of this Square is 16\n",
      "Area of this Circle is 28.274333882308138\n"
     ]
    }
   ],
   "source": [
    "import math\n",
    "class Shape:\n",
    "    def __init__(self, name):\n",
    "        self.name = name\n",
    "        \n",
    "    def getArea(self):\n",
    "        pass\n",
    "    \n",
    "    def printDetails(self):\n",
    "        print(f\"This shape is called {self.name} and area is {self.getArea()}.\")\n",
    "        \n",
    "class Square(Shape):\n",
    "    def __init__(self, edge):\n",
    "        ## calling the constructor from parent class Shape\n",
    "        Shape.__init__(self, name = \"Square\")\n",
    "        self.edge = edge\n",
    "    \n",
    "    ## Overiding the getArea function\n",
    "    def getArea(self):\n",
    "        return self.edge**2\n",
    "    \n",
    "class Circle(Shape):\n",
    "    def __init__(self, radius):\n",
    "        ## calling the constructor from parent class Shape\n",
    "        Shape.__init__(self, name = \"Circle\")\n",
    "        self.radius = radius\n",
    "    ## Overiding the getArea function\n",
    "    def getArea(self):\n",
    "        return math.pi * (self.radius**2)\n",
    "    \n",
    "obj1 = Square(4)\n",
    "print(f\"Area of this {obj1.name} is {obj1.getArea()}\")\n",
    "\n",
    "obj2 = Circle(3)\n",
    "print(f\"Area of this {obj2.name} is {obj2.getArea()}\")"
   ]
  },
  {
   "cell_type": "markdown",
   "metadata": {},
   "source": [
    "As we can see above there is a pre-defined dummy method called `getArea` in the `Shape` class. We override this method in the `Square` and `Circle` class. This technique is called `method overriding`. The advantage of `method overriding` is\n",
    "that the derived class can write its own specific implementation based on the requirement while using the same function name."
   ]
  },
  {
   "cell_type": "markdown",
   "metadata": {},
   "source": [
    "### Abstract base classes"
   ]
  },
  {
   "cell_type": "markdown",
   "metadata": {},
   "source": [
    "Abstract base classes define a set of methods and properties that a class must implement in order to inherit the parent class. This is a useful technique to enforce that certain functions within the derived class must exist. To define an abstract base class, we use the `abc` module. The abstract base class inherits from the built-in `ABC` class and we use the decorator `@abstractmethod` to declare an abstract method."
   ]
  },
  {
   "cell_type": "code",
   "execution_count": 9,
   "metadata": {
    "ExecuteTime": {
     "end_time": "2022-12-19T22:29:00.002228Z",
     "start_time": "2022-12-19T22:28:59.993178Z"
    }
   },
   "outputs": [
    {
     "ename": "TypeError",
     "evalue": "Can't instantiate abstract class Square with abstract methods getArea",
     "output_type": "error",
     "traceback": [
      "\u001b[0;31m---------------------------------------------------------------------------\u001b[0m",
      "\u001b[0;31mTypeError\u001b[0m                                 Traceback (most recent call last)",
      "\u001b[0;32m<ipython-input-9-047869063ef7>\u001b[0m in \u001b[0;36m<module>\u001b[0;34m\u001b[0m\n\u001b[1;32m     18\u001b[0m         \u001b[0mself\u001b[0m\u001b[0;34m.\u001b[0m\u001b[0medge\u001b[0m \u001b[0;34m=\u001b[0m \u001b[0medge\u001b[0m\u001b[0;34m\u001b[0m\u001b[0;34m\u001b[0m\u001b[0m\n\u001b[1;32m     19\u001b[0m \u001b[0;34m\u001b[0m\u001b[0m\n\u001b[0;32m---> 20\u001b[0;31m \u001b[0mobj1\u001b[0m \u001b[0;34m=\u001b[0m \u001b[0mSquare\u001b[0m\u001b[0;34m(\u001b[0m\u001b[0;36m4\u001b[0m\u001b[0;34m)\u001b[0m\u001b[0;34m\u001b[0m\u001b[0;34m\u001b[0m\u001b[0m\n\u001b[0m\u001b[1;32m     21\u001b[0m \u001b[0mprint\u001b[0m\u001b[0;34m(\u001b[0m\u001b[0;34mf\"Area of this {obj1.name} is {obj1.getArea()}\"\u001b[0m\u001b[0;34m)\u001b[0m\u001b[0;34m\u001b[0m\u001b[0;34m\u001b[0m\u001b[0m\n",
      "\u001b[0;31mTypeError\u001b[0m: Can't instantiate abstract class Square with abstract methods getArea"
     ]
    }
   ],
   "source": [
    "from abc import ABC, abstractmethod\n",
    "\n",
    "class Shape(ABC):\n",
    "    def __init__(self, name):\n",
    "        self.name = name\n",
    "    \n",
    "    @abstractmethod\n",
    "    def getArea(self):\n",
    "        pass\n",
    "    \n",
    "    def printDetails(self):\n",
    "        print(f\"This shape is called {self.name} and area is {self.getArea()}.\")\n",
    "        \n",
    "class Square(Shape):\n",
    "    def __init__(self, edge):\n",
    "        ## calling the constructor from parent class Shape\n",
    "        Shape.__init__(self, name = \"Square\")\n",
    "        self.edge = edge\n",
    "    \n",
    "obj1 = Square(4)\n",
    "print(f\"Area of this {obj1.name} is {obj1.getArea()}\")"
   ]
  },
  {
   "cell_type": "markdown",
   "metadata": {},
   "source": [
    "We can see above that we have created a `Shape` class from the `ABC` class which has an abstract method `getArea`. Since our child class `Square` didn't have getArea implemented we get an error instantiating this class. "
   ]
  },
  {
   "cell_type": "code",
   "execution_count": 1,
   "metadata": {
    "ExecuteTime": {
     "end_time": "2022-12-19T23:44:34.796138Z",
     "start_time": "2022-12-19T23:44:34.790354Z"
    }
   },
   "outputs": [
    {
     "name": "stdout",
     "output_type": "stream",
     "text": [
      "Area of this Square is 16\n"
     ]
    }
   ],
   "source": [
    "from abc import ABC, abstractmethod\n",
    "\n",
    "class Shape(ABC):\n",
    "    def __init__(self, name):\n",
    "        self.name = name\n",
    "    \n",
    "    @abstractmethod\n",
    "    def getArea(self):\n",
    "        pass\n",
    "    \n",
    "    def printDetails(self):\n",
    "        print(f\"This shape is called {self.name} and area is {self.getArea()}.\")\n",
    "        \n",
    "class Square(Shape):\n",
    "    def __init__(self, edge):\n",
    "        ## calling the constructor from parent class Shape\n",
    "        Shape.__init__(self, name = \"Square\")\n",
    "        self.edge = edge\n",
    "    \n",
    "    def getArea(self): return self.edge**2\n",
    "    \n",
    "obj1 = Square(4)\n",
    "print(f\"Area of this {obj1.name} is {obj1.getArea()}\")"
   ]
  },
  {
   "cell_type": "markdown",
   "metadata": {
    "ExecuteTime": {
     "end_time": "2022-12-19T23:46:07.489300Z",
     "start_time": "2022-12-19T23:46:07.485126Z"
    }
   },
   "source": [
    "We can see above, once we implemented the getArea method, the code runs fine. \n",
    "\n",
    ":::{callout-note}\n",
    "Abstract base classes serve as a blueprint for derived classes to implement methods that are required to run the function appropriately.\n",
    ":::"
   ]
  },
  {
   "cell_type": "markdown",
   "metadata": {},
   "source": [
    "## Conclusion"
   ]
  },
  {
   "cell_type": "markdown",
   "metadata": {},
   "source": [
    "In this article, we learned about what is object-oriented programming and key concepts using Python. A good understanding of these concepts will lay a solid foundation for any software professional to write and understand python code better."
   ]
  },
  {
   "cell_type": "markdown",
   "metadata": {},
   "source": [
    "I hope you enjoyed reading it. If there is any feedback on the code or just the blog post, feel free to comment below or reach out on [LinkedIn](https://www.linkedin.com/in/aayushmnit/)."
   ]
  }
 ],
 "metadata": {
  "kernelspec": {
   "display_name": "Python 3 (ipykernel)",
   "language": "python",
   "name": "python3"
  },
  "language_info": {
   "codemirror_mode": {
    "name": "ipython",
    "version": 3
   },
   "file_extension": ".py",
   "mimetype": "text/x-python",
   "name": "python",
   "nbconvert_exporter": "python",
   "pygments_lexer": "ipython3",
   "version": "3.9.13"
  },
  "toc": {
   "base_numbering": 1,
   "nav_menu": {},
   "number_sections": true,
   "sideBar": true,
   "skip_h1_title": false,
   "title_cell": "Table of Contents",
   "title_sidebar": "Contents",
   "toc_cell": false,
   "toc_position": {
    "height": "991.804px",
    "left": "30px",
    "top": "88px",
    "width": "392.003px"
   },
   "toc_section_display": true,
   "toc_window_display": true
  },
  "varInspector": {
   "cols": {
    "lenName": 16,
    "lenType": 16,
    "lenVar": 40
   },
   "kernels_config": {
    "python": {
     "delete_cmd_postfix": "",
     "delete_cmd_prefix": "del ",
     "library": "var_list.py",
     "varRefreshCmd": "print(var_dic_list())"
    },
    "r": {
     "delete_cmd_postfix": ") ",
     "delete_cmd_prefix": "rm(",
     "library": "var_list.r",
     "varRefreshCmd": "cat(var_dic_list()) "
    }
   },
   "types_to_exclude": [
    "module",
    "function",
    "builtin_function_or_method",
    "instance",
    "_Feature"
   ],
   "window_display": false
  }
 },
 "nbformat": 4,
 "nbformat_minor": 4
}
