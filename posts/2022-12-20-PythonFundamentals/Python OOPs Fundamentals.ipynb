{
 "cells": [
  {
   "cell_type": "markdown",
   "metadata": {},
   "source": [
    "---\n",
    "title: Python OOPs fundamentals\n",
    "author: Aayush Agrawal\n",
    "date: \"2022-12-20\"\n",
    "categories: [Python, Programming]\n",
    "image: \"Python-logo.png\"\n",
    "format:\n",
    "    html:\n",
    "        code-fold: false\n",
    "        number-sections: true     \n",
    "---"
   ]
  },
  {
   "cell_type": "markdown",
   "metadata": {},
   "source": [
    "> An introduction to Object Oriented programming using Python."
   ]
  },
  {
   "cell_type": "markdown",
   "metadata": {},
   "source": [
    "Increasingly it's becoming important for Data professionals to become better at programming and mordern programming is centered around Object Oriented programming paradigm. This articles helps in explaining some important programming concepts which are mostly language agnostic but we will be using Python in this article."
   ]
  },
  {
   "cell_type": "markdown",
   "metadata": {},
   "source": [
    "Object-oriented programming (OOPs) is a programming paradigm which relies on the concept of classes and objects. The basic idea of OOP is to divide a sophisticated program into a number of objects that interact with each other to achieve the desired functionality."
   ]
  },
  {
   "cell_type": "markdown",
   "metadata": {},
   "source": [
    "## What are `Objects` and `Classes`?"
   ]
  },
  {
   "cell_type": "markdown",
   "metadata": {},
   "source": [
    "`Classes` are the blue print of defining an `Object`. While `Object` are a collection of data/properties and their behaviors/methods. \n",
    "\n",
    "For example- Think of a class `Bulb` which will have a state (On/Off) and methods to turnOn and turnoff the bulb."
   ]
  },
  {
   "cell_type": "code",
   "execution_count": 6,
   "metadata": {
    "ExecuteTime": {
     "end_time": "2022-12-16T21:45:27.374096Z",
     "start_time": "2022-12-16T21:45:27.370947Z"
    }
   },
   "outputs": [],
   "source": [
    "class Bulb():\n",
    "    def __init__(self, onOff=False): self.onOff = onOff    \n",
    "    def turnOn(self): self.onOff = True\n",
    "    def turnOff(self): self.onOff = False"
   ]
  },
  {
   "cell_type": "markdown",
   "metadata": {},
   "source": [
    "Now we can create multiple bulb objects from this `Bulb` class."
   ]
  },
  {
   "cell_type": "code",
   "execution_count": 13,
   "metadata": {
    "ExecuteTime": {
     "end_time": "2022-12-16T22:47:16.342258Z",
     "start_time": "2022-12-16T22:47:16.338097Z"
    }
   },
   "outputs": [
    {
     "name": "stdout",
     "output_type": "stream",
     "text": [
      "Bulb 1 state is :True, Bulb 2 state is :False\n"
     ]
    }
   ],
   "source": [
    "b1 = Bulb(onOff=True)\n",
    "b2 = Bulb()\n",
    "print(f\"Bulb 1 state is :{b1.onOff}, Bulb 2 state is :{b2.onOff}\")"
   ]
  },
  {
   "cell_type": "markdown",
   "metadata": {},
   "source": [
    "b1 and b2 are objects of class `Bulb`. Let's use the turnOn and turnOff `methods` to update the bulb `properties`."
   ]
  },
  {
   "cell_type": "code",
   "execution_count": 14,
   "metadata": {
    "ExecuteTime": {
     "end_time": "2022-12-16T22:47:17.563648Z",
     "start_time": "2022-12-16T22:47:17.560081Z"
    }
   },
   "outputs": [
    {
     "name": "stdout",
     "output_type": "stream",
     "text": [
      "Bulb 1 state is :False, Bulb 2 state is :True\n"
     ]
    }
   ],
   "source": [
    "b1.turnOff(); b2.turnOn()\n",
    "print(f\"Bulb 1 state is :{b1.onOff}, Bulb 2 state is :{b2.onOff}\")"
   ]
  },
  {
   "cell_type": "markdown",
   "metadata": {},
   "source": [
    "As we can see from the example above, a `Bulb` object contains of `onOff` property. `Properties` are variables that contain information regarding the object of a class and `Methods` like turnOn and turnOff in our `Bulb` class are functions that have access to `properties` of a class. `Methods` can accept additional parameters, modify properties and return values.  "
   ]
  },
  {
   "cell_type": "markdown",
   "metadata": {
    "ExecuteTime": {
     "end_time": "2022-12-16T22:57:39.462040Z",
     "start_time": "2022-12-16T22:57:39.459382Z"
    }
   },
   "source": [
    "## Class and Instance variables"
   ]
  },
  {
   "cell_type": "markdown",
   "metadata": {},
   "source": [
    "In Python, properties can be defined in two ways - \n",
    "\n",
    "- **Class Variables** - Class variables are shared by all objects of the class. A change in the class variable will change the value of that property in **all the objects of the class**.\n",
    "- **Instance Varaibles** - Instance variables are unique to each instance or object of the class. A change in instance variable will change the value of the property in that specific object only."
   ]
  },
  {
   "cell_type": "code",
   "execution_count": 27,
   "metadata": {
    "ExecuteTime": {
     "end_time": "2022-12-16T23:45:54.362708Z",
     "start_time": "2022-12-16T23:45:54.358328Z"
    }
   },
   "outputs": [
    {
     "name": "stdout",
     "output_type": "stream",
     "text": [
      "Name :Aayush\n",
      "Company Name: Microsoft\n",
      "Name :John\n",
      "Company Name: Microsoft\n"
     ]
    }
   ],
   "source": [
    "class Employee:\n",
    "    # Creating a class variable\n",
    "    companyName = \"Microsoft\"\n",
    "    \n",
    "    def __init__(self, name):\n",
    "        # creating a instance variable\n",
    "        self.name = name\n",
    "    \n",
    "e1 = Employee('Aayush')\n",
    "e2 = Employee('John')\n",
    "\n",
    "print(f'Name :{e1.name}')\n",
    "print(f'Company Name: {e1.companyName}')\n",
    "print(f'Name :{e2.name}')\n",
    "print(f'Company Name: {e2.companyName}')"
   ]
  },
  {
   "cell_type": "markdown",
   "metadata": {},
   "source": [
    "As we can see above, class variable are defined outside of the initializer and instance variable are defined inside the initializer."
   ]
  },
  {
   "cell_type": "code",
   "execution_count": 28,
   "metadata": {
    "ExecuteTime": {
     "end_time": "2022-12-16T23:45:55.562597Z",
     "start_time": "2022-12-16T23:45:55.559445Z"
    }
   },
   "outputs": [
    {
     "name": "stdout",
     "output_type": "stream",
     "text": [
      "Amazon Amazon\n"
     ]
    }
   ],
   "source": [
    "Employee.companyName = \"Amazon\"\n",
    "print(e1.companyName, e2.companyName)"
   ]
  },
  {
   "cell_type": "markdown",
   "metadata": {
    "ExecuteTime": {
     "end_time": "2022-12-16T23:44:54.878984Z",
     "start_time": "2022-12-16T23:44:54.874981Z"
    }
   },
   "source": [
    "As we can see above changing a class variable in the Employee class changes class variable in all objects objects of the class. Most of the times we will be using instance variable but knowledge about class variables can come handy. Let's look at a interesting use of class variable -"
   ]
  },
  {
   "cell_type": "code",
   "execution_count": 30,
   "metadata": {
    "ExecuteTime": {
     "end_time": "2022-12-16T23:51:13.987851Z",
     "start_time": "2022-12-16T23:51:13.983102Z"
    }
   },
   "outputs": [
    {
     "name": "stdout",
     "output_type": "stream",
     "text": [
      "Name :Aayush\n",
      "Team Members: ['Aayush', 'John']\n",
      "Name :John\n",
      "Company Name: ['Aayush', 'John']\n"
     ]
    }
   ],
   "source": [
    "class Employee:\n",
    "    # Creating a class variable\n",
    "    companyName = \"Microsoft\"\n",
    "    companyEmployees = []\n",
    "    \n",
    "    def __init__(self, name):\n",
    "        # creating a instance variable\n",
    "        self.name = name\n",
    "        self.companyEmployees.append(self.name)\n",
    "    \n",
    "e1 = Employee('Aayush')\n",
    "e2 = Employee('John')\n",
    "\n",
    "print(f'Name :{e1.name}')\n",
    "print(f'Team Members: {e1.companyEmployees}')\n",
    "print(f'Name :{e2.name}')\n",
    "print(f'Company Name: {e2.companyEmployees}')"
   ]
  },
  {
   "cell_type": "markdown",
   "metadata": {},
   "source": [
    "As we can see above, we are saving all objects of `Employee` class in `companyEmployees` which is a list shared by all objects of the class `Employee`."
   ]
  },
  {
   "cell_type": "markdown",
   "metadata": {
    "ExecuteTime": {
     "end_time": "2022-12-16T23:56:03.254314Z",
     "start_time": "2022-12-16T23:56:03.251427Z"
    }
   },
   "source": [
    "## Class, Static and Instance methods"
   ]
  },
  {
   "cell_type": "markdown",
   "metadata": {},
   "source": [
    "In Python classes, we have three types of methods - \n",
    "\n",
    "- **Class Methods** - Class methods works with class variables and are accessible using the class name rather than its object.\n",
    "- **Static Methods** - Static methods are methods that are usually limited to class only and not their objects. They don't typically modify or access class and instance variable. They are used as utility functions inside the class and we don't want the inherited class to modify them.\n",
    "- **Instance Methods** - Instance methods are the most used methods and have access to instance variables within the class. They can also take new parameters to perform desired operations."
   ]
  },
  {
   "cell_type": "code",
   "execution_count": 5,
   "metadata": {
    "ExecuteTime": {
     "end_time": "2022-12-18T01:20:29.445420Z",
     "start_time": "2022-12-18T01:20:29.442115Z"
    }
   },
   "outputs": [
    {
     "name": "stdout",
     "output_type": "stream",
     "text": [
      "Calling class method. Company name is Microsoft\n",
      "Calling Static method. 4\n",
      "Calling instance method. Employee name is Aayush\n"
     ]
    }
   ],
   "source": [
    "class Employee:\n",
    "    # Creating a class variable\n",
    "    companyName = \"Microsoft\"\n",
    "    companyEmployees = []\n",
    "    \n",
    "    def __init__(self, name):\n",
    "        # creating a instance variable\n",
    "        self.name = name\n",
    "        self.companyEmployees.append(self.name)\n",
    "    \n",
    "    @classmethod\n",
    "    def getCompanyName(cls): # This is a class method\n",
    "         return cls.companyName\n",
    "    \n",
    "    @staticmethod\n",
    "    def plusTwo(x): # This is a static method\n",
    "        return x+2\n",
    "    \n",
    "    def getName(self): # This is a instance method\n",
    "        return self.name\n",
    "    \n",
    "e1 = Employee('Aayush')\n",
    "print(f\"Calling class method. Company name is {e1.getCompanyName()}\")\n",
    "print(f\"Calling Static method. {e1.plusTwo(2)}\")\n",
    "print(f\"Calling instance method. Employee name is {e1.getName()}\")"
   ]
  },
  {
   "cell_type": "markdown",
   "metadata": {},
   "source": [
    "As we can see above we use `@classmethod` decorator to define class method. `cls` is used to refer to the class just as `self` is used to refer to the object of the class. Class method atleast takes one argument `cls`.\n",
    "\n",
    ":::{.callout-note}\n",
    "We can use any other name instead of `cls` but `cls` is used as a convention. \n",
    ":::\n"
   ]
  },
  {
   "cell_type": "markdown",
   "metadata": {},
   "source": [
    "We use `@staticmethod` decorator to define static class `plusTwo`. We can see that static methods don't take any argument like `self` and `cls`."
   ]
  },
  {
   "cell_type": "markdown",
   "metadata": {},
   "source": [
    "Most commonly used methods are instance methods and they can be defined without a decorator within the class. Just like class method they take atleast one argument which is `self` by convention. \n",
    "\n",
    ":::{.callout-note}\n",
    "We can use any other name instead of `self` but `self` is used as a convention. \n",
    ":::"
   ]
  },
  {
   "cell_type": "markdown",
   "metadata": {},
   "source": [
    "## Access Modifiers"
   ]
  },
  {
   "cell_type": "markdown",
   "metadata": {},
   "source": [
    "Access modifiers limit access to the variables and functions of a class. There are three types of access modifiers - public, protected and private."
   ]
  },
  {
   "cell_type": "markdown",
   "metadata": {},
   "source": [
    "### Public Attributes"
   ]
  },
  {
   "cell_type": "markdown",
   "metadata": {},
   "source": [
    "Public attributes are those methods and properties which can be access anywhere inside and outside of the class. By default, all the member variables and functions are public."
   ]
  },
  {
   "cell_type": "code",
   "execution_count": 8,
   "metadata": {
    "ExecuteTime": {
     "end_time": "2022-12-18T01:44:02.728790Z",
     "start_time": "2022-12-18T01:44:02.725726Z"
    }
   },
   "outputs": [
    {
     "name": "stdout",
     "output_type": "stream",
     "text": [
      "Employee Name: Aayush\n"
     ]
    }
   ],
   "source": [
    "class Employee:\n",
    "    def __init__(self, name):\n",
    "        self.name = name ## Public variable\n",
    "        \n",
    "    def getName(self): ## Public method\n",
    "        return self.name\n",
    "\n",
    "e1 = Employee(\"Aayush\")\n",
    "print(f\"Employee Name: {e1.getName()}\")"
   ]
  },
  {
   "cell_type": "markdown",
   "metadata": {},
   "source": [
    "In the case above, both property `name` and method `getName` are public attributes."
   ]
  },
  {
   "cell_type": "markdown",
   "metadata": {},
   "source": [
    "### Protected Attributes"
   ]
  },
  {
   "cell_type": "markdown",
   "metadata": {},
   "source": [
    "Protected attributes are similar to public attributes which can be accessed within the class and also available to sub classes. The only difference is the convention, which is to define each protected member with a _single underscore \"\\_\"_."
   ]
  },
  {
   "cell_type": "code",
   "execution_count": 10,
   "metadata": {
    "ExecuteTime": {
     "end_time": "2022-12-18T01:50:51.009175Z",
     "start_time": "2022-12-18T01:50:51.005784Z"
    }
   },
   "outputs": [
    {
     "name": "stdout",
     "output_type": "stream",
     "text": [
      "Employee Name: Aayush\n",
      "Project Name: Project Orland\n"
     ]
    }
   ],
   "source": [
    "class Employee:\n",
    "    def __init__(self, name, project):\n",
    "        self.name = name ## Public variable\n",
    "        self._project = project ## Protected variable\n",
    "        \n",
    "    def getName(self): ## Public method\n",
    "        return self.name\n",
    "    \n",
    "    def _getProject(self): ## Protected method\n",
    "        return self._project\n",
    "    \n",
    "e1 = Employee(\"Aayush\", \"Project Orland\")\n",
    "print(f\"Employee Name: {e1.getName()}\")\n",
    "print(f\"Project Name: {e1._getProject()}\")"
   ]
  },
  {
   "cell_type": "markdown",
   "metadata": {
    "ExecuteTime": {
     "end_time": "2022-12-18T01:51:41.040190Z",
     "start_time": "2022-12-18T01:51:41.037247Z"
    }
   },
   "source": [
    "In the case above, both property `_project` and method `_getProject` are protected attributes."
   ]
  },
  {
   "cell_type": "markdown",
   "metadata": {},
   "source": [
    "### Private Attributes"
   ]
  },
  {
   "cell_type": "markdown",
   "metadata": {},
   "source": [
    "Private attributes are accessible within the class but not outside of the class. To define a private attribute, prefix the method or property with _double underscore\"\\_\"_."
   ]
  },
  {
   "cell_type": "code",
   "execution_count": 14,
   "metadata": {
    "ExecuteTime": {
     "end_time": "2022-12-18T02:05:42.643814Z",
     "start_time": "2022-12-18T02:05:42.633066Z"
    }
   },
   "outputs": [
    {
     "name": "stdout",
     "output_type": "stream",
     "text": [
      "Employee Name: Aayush\n"
     ]
    },
    {
     "ename": "AttributeError",
     "evalue": "'Employee' object has no attribute '__getSalary'",
     "output_type": "error",
     "traceback": [
      "\u001b[0;31m---------------------------------------------------------------------------\u001b[0m",
      "\u001b[0;31mAttributeError\u001b[0m                            Traceback (most recent call last)",
      "Input \u001b[0;32mIn [14]\u001b[0m, in \u001b[0;36m<cell line: 18>\u001b[0;34m()\u001b[0m\n\u001b[1;32m     16\u001b[0m e1 \u001b[38;5;241m=\u001b[39m Employee(\u001b[38;5;124m\"\u001b[39m\u001b[38;5;124mAayush\u001b[39m\u001b[38;5;124m\"\u001b[39m, \u001b[38;5;124m\"\u001b[39m\u001b[38;5;124mProject Orland\u001b[39m\u001b[38;5;124m\"\u001b[39m, \u001b[38;5;124m\"\u001b[39m\u001b[38;5;124m3500\u001b[39m\u001b[38;5;124m\"\u001b[39m)\n\u001b[1;32m     17\u001b[0m \u001b[38;5;28mprint\u001b[39m(\u001b[38;5;124mf\u001b[39m\u001b[38;5;124m\"\u001b[39m\u001b[38;5;124mEmployee Name: \u001b[39m\u001b[38;5;132;01m{\u001b[39;00me1\u001b[38;5;241m.\u001b[39mgetName()\u001b[38;5;132;01m}\u001b[39;00m\u001b[38;5;124m\"\u001b[39m)\n\u001b[0;32m---> 18\u001b[0m \u001b[38;5;28mprint\u001b[39m(\u001b[38;5;124mf\u001b[39m\u001b[38;5;124m\"\u001b[39m\u001b[38;5;124mProject Name: \u001b[39m\u001b[38;5;132;01m{\u001b[39;00me1\u001b[38;5;241m.\u001b[39m__getSalary()\u001b[38;5;132;01m}\u001b[39;00m\u001b[38;5;124m\"\u001b[39m)\n",
      "\u001b[0;31mAttributeError\u001b[0m: 'Employee' object has no attribute '__getSalary'"
     ]
    }
   ],
   "source": [
    "class Employee:\n",
    "    def __init__(self, name, project, salary):\n",
    "        self.name = name ## Public variable\n",
    "        self._project = project ## Protected variable\n",
    "        self.__salary = salary\n",
    "        \n",
    "    def getName(self): ## Public method\n",
    "        return self.name\n",
    "    \n",
    "    def _getProject(self): ## Protected method\n",
    "        return self._project\n",
    "    \n",
    "    def __getSalary(self): ## Protected method\n",
    "        return self.__salary\n",
    "    \n",
    "e1 = Employee(\"Aayush\", \"Project Orland\", \"3500\")\n",
    "print(f\"Employee Name: {e1.getName()}\")\n",
    "print(f\"Project Name: {e1.__getSalary()}\") "
   ]
  },
  {
   "cell_type": "markdown",
   "metadata": {},
   "source": [
    "As we can see above, `__salary` propery and `__getSalary` method are both private attributes and when we call them outside of the class they throw an error that `'Employee' object has no attribute '__getSalary'`."
   ]
  }
 ],
 "metadata": {
  "kernelspec": {
   "display_name": "Python 3 (ipykernel)",
   "language": "python",
   "name": "python3"
  },
  "language_info": {
   "codemirror_mode": {
    "name": "ipython",
    "version": 3
   },
   "file_extension": ".py",
   "mimetype": "text/x-python",
   "name": "python",
   "nbconvert_exporter": "python",
   "pygments_lexer": "ipython3",
   "version": "3.9.13"
  },
  "toc": {
   "base_numbering": 1,
   "nav_menu": {},
   "number_sections": true,
   "sideBar": true,
   "skip_h1_title": false,
   "title_cell": "Table of Contents",
   "title_sidebar": "Contents",
   "toc_cell": false,
   "toc_position": {
    "height": "991.804px",
    "left": "30px",
    "top": "88px",
    "width": "392.003px"
   },
   "toc_section_display": true,
   "toc_window_display": true
  },
  "varInspector": {
   "cols": {
    "lenName": 16,
    "lenType": 16,
    "lenVar": 40
   },
   "kernels_config": {
    "python": {
     "delete_cmd_postfix": "",
     "delete_cmd_prefix": "del ",
     "library": "var_list.py",
     "varRefreshCmd": "print(var_dic_list())"
    },
    "r": {
     "delete_cmd_postfix": ") ",
     "delete_cmd_prefix": "rm(",
     "library": "var_list.r",
     "varRefreshCmd": "cat(var_dic_list()) "
    }
   },
   "types_to_exclude": [
    "module",
    "function",
    "builtin_function_or_method",
    "instance",
    "_Feature"
   ],
   "window_display": false
  }
 },
 "nbformat": 4,
 "nbformat_minor": 4
}
