{
 "cells": [
  {
   "cell_type": "markdown",
   "metadata": {},
   "source": [
    "---\n",
    "title: ML Interview Prepration Guide (Draft)\n",
    "author: Aayush Agrawal\n",
    "date: \"2024-08-24\"\n",
    "categories: [ML Interview Guide]\n",
    "image: \"ml_interview_guide.jpg\"\n",
    "format:\n",
    "    html:\n",
    "        code-fold: false\n",
    "        number-sections: true     \n",
    "---"
   ]
  },
  {
   "cell_type": "markdown",
   "metadata": {},
   "source": [
    "> A collection of resources while preparing for MLE interviews at Meta or other big tech companies."
   ]
  },
  {
   "cell_type": "markdown",
   "metadata": {},
   "source": [
    "Not long ago, I transitioned from a Senior ML Scientist role at Microsoft to a Machine Learning Engineer position at Meta, and the journey was anything but quick. The preparation process was extensive, especially since it was my first experience with LeetCode-style coding interviews and ML system design interviews. While there are many resources available for preparation, I'll be sharing the ones that helped me navigate and succeed in this challenging process."
   ]
  },
  {
   "cell_type": "markdown",
   "metadata": {
    "ExecuteTime": {
     "end_time": "2023-05-20T21:14:42.776770Z",
     "start_time": "2023-05-20T21:14:42.773594Z"
    }
   },
   "source": [
    "<figure align = \"center\">\n",
    "    <img src=\"./ml_interview_guide.jpg\" style=\"width:100%\">\n",
    "<figcaption align = \"center\">\n",
    "</figcaption>\n",
    "</figure>"
   ]
  },
  {
   "cell_type": "markdown",
   "metadata": {},
   "source": [
    "I will try to cover the following -\n",
    "\n",
    "1. **Interview Process Overview:** Break down the entire interview process, from initial screenings to the final onsite interviews, and share tips on what to expect at each stage.\n",
    "\n",
    "2. **Coding Interviews:** Dive into the LeetCode-style coding interviews,how I prepared for them, and the strategies that worked best for me.\n",
    "\n",
    "3. **ML System Design Interviews:** Explore the ML system design interviews, offering insights into the key concepts you need to know, how to approach open-ended design problems, and the resources that helped me build a strong foundation.\n",
    "\n",
    "4. **Behavioral Interviews:** Finally, I’ll talk about the behavioral interviews, and how I prepared to effectively communicate my past work and problem-solving approach."
   ]
  },
  {
   "cell_type": "markdown",
   "metadata": {},
   "source": [
    "# Interview Process Overview"
   ]
  },
  {
   "cell_type": "markdown",
   "metadata": {
    "ExecuteTime": {
     "end_time": "2022-12-19T23:46:07.489300Z",
     "start_time": "2022-12-19T23:46:07.485126Z"
    }
   },
   "source": [
    "The interview process typically starts with a screening round, followed by a more extensive onsite round.\n",
    "\n",
    "For the phone screen, the format varies depending on the level you're interviewing for:\n",
    "\n",
    "- **E4/E5:** \n",
    "    - 5 min: Introduction\n",
    "    - 35 mins: Two leetcode coding problems (Easy/Medium)\n",
    "    - 5 mins: Questions for interviewer\n",
    "- **E6:** \n",
    "    - 2 min: Introduction\n",
    "    - 25 mins: One or Two leetcode coding problems\n",
    "    - 15 mins: Behavioral interview\n",
    "    - 3 mins: Question for interviewer\n",
    "    \n",
    "Once you clear the phone screen you will be invited for on-site interviews which includes coding round, ML system design round and behavioral round. Again the composition varies depending on the level you're interviewing for:\n",
    "\n",
    "- **E4/E5:** \n",
    "    - 2 coding rounds\n",
    "    - 1 ML system design\n",
    "    - 1 Behavioral \n",
    "    \n",
    "- **E6** \n",
    "    - 2 coding rounds\n",
    "    - 2 ML system design\n",
    "    - 1 Behavioral\n",
    "    \n",
    "The level of preparation required for both phone interviews and onsite rounds is similar.\n",
    "\n",
    "While performance in coding round are bare minimum you need to pass the loop, leveling is decided by how well you do in system design and behavioral round. \n",
    "\n",
    "Next, we'll dive deeper into each type of interview and explore how to best prepare for them.\n"
   ]
  },
  {
   "cell_type": "markdown",
   "metadata": {},
   "source": [
    "# Coding Interviews"
   ]
  },
  {
   "cell_type": "markdown",
   "metadata": {
    "ExecuteTime": {
     "end_time": "2024-08-24T19:57:40.422570Z",
     "start_time": "2024-08-24T19:57:40.418455Z"
    }
   },
   "source": [
    ":::{.callout-note collapse=\"true\"}\n",
    "Preparing for this was the most time-consuming part for me, especially since I don’t come from a CS background. Although I worked as an ML Scientist at Microsoft, I had limited exposure to these types of problems in the real world. However, mastering these concepts is essential for entry in high-tech software/ML roles, so it's important to invest time in thorough preparation.\n",
    ":::"
   ]
  },
  {
   "cell_type": "markdown",
   "metadata": {},
   "source": [
    "Coding round interviews unsurprisingly focus heavily on coding. A typical Interview structure looks like the following - \n",
    "\n",
    "- 5 min: Introduction\n",
    "- 35 mins: Two leetcode coding problems\n",
    "- 5 mins: Questions for interviewer\n",
    "\n",
    "You are mostly expected to code on a plain text notepad with execution disabled. To get a more realistic idea of how a coding interview environment look like watch this mock interview by interviewing.io - \n"
   ]
  },
  {
   "cell_type": "markdown",
   "metadata": {
    "ExecuteTime": {
     "end_time": "2024-08-24T20:13:10.302036Z",
     "start_time": "2024-08-24T20:13:10.298158Z"
    }
   },
   "source": [
    "<center>\n",
    "<iframe width=\"560\" height=\"315\" src=\"https://www.youtube.com/embed/mDYOy7k8kOQ\" title=\"YouTube video player\" frameborder=\"0\" allow=\"accelerometer; autoplay; clipboard-write; encrypted-media; gyroscope; picture-in-picture\" allowfullscreen>\n",
    "</iframe>\n",
    "<figure>\n",
    "<figcaption>\n",
    "        [Python interview with an interviewing.io engineer: Print k largest elements](https://www.youtube.com/watch?v=mDYOy7k8kOQ)\n",
    "</figcaption>\n",
    "</figure>\n",
    "</center>"
   ]
  },
  {
   "cell_type": "markdown",
   "metadata": {},
   "source": [
    "## A Structured Approach to Solving Coding Problems in Interviews"
   ]
  },
  {
   "cell_type": "markdown",
   "metadata": {},
   "source": [
    "When tackling a coding problem, following this structured approach can be very helpful:\n",
    "\n",
    "1. **Ask Clarifying Questions(~3mins)**: When the problem is presented, read it aloud to ensure you fully understand the requirements before jumping to a solution. Ask follow-up questions to clarify any ambiguities. This might involve discussing test cases, considering edge cases, and understanding the expected input range or type. For example, think about how the solution should handle null inputs or extreme values. Ideal state is to get an alignment with your interviewer by writing out some test cases and expected output for the same. \n",
    "\n",
    "2. **Plan Your Approach(~5 mins)**: Outline your solution strategy and explain it to your interviewer while typing it out in the shared text window. Break down the problem into smaller parts if possible, and decide on the most appropriate algorithm or data structure and discuss any trade-offs you are making and write down potential time and space complexity of the solution you are proposing. Once your interview agree with your approach and then ask permission to code it out.\n",
    "\n",
    "3. **Write the code(~5 mins)**: Implement your solution, keeping your code clean and well-organized. As you code, ensure that you handle edge cases. Make sure to name your functions, classes and variables appropriately so anybody reading your code can follow. \n",
    "\n",
    "4. **Pseudo run your solution(~2 mins)**: Manually run your code against various test cases while explaining it to your interviewer, including both typical and edge cases, to ensure it behaves as expected. This will help you find potential bugs and an opportunity to correct them before your interviewer points it out. \n",
    "\n",
    "5. **Close(~2 mins)**: Explain time and space complexity of the solution and answer any followup questions your interviewer might have.\n",
    "\n",
    "By following these steps, you can effectively navigate coding problems and demonstrate a clear, methodical problem-solving approach."
   ]
  },
  {
   "cell_type": "markdown",
   "metadata": {},
   "source": [
    ":::{.callout-tip collapse=\"false\"}\n",
    "1. Keep your introduction breif (~30 seconds) to have more time for solving the problem. For example - \"Hey I am `[Your Name]`, I currently work as `[Title]` at `[Employer Name]`. I have been working here from past `[N]` years. I'm now seeking new opportunities, which brings me here today.\"\n",
    "2. If you’re running out of time, it’s acceptable to manually walk through one or two test cases with your interviewer. You can then suggest moving on to the next question to ensure you cover everything within the allotted time.\n",
    "3. Its okay to ask for help from interviewer if you are stuck on a problem\n",
    ":::"
   ]
  },
  {
   "cell_type": "markdown",
   "metadata": {},
   "source": [
    "As you can see from above, coding rounds are really fast paced and you need to be well prepared to get through it. That brings us to prepration. "
   ]
  },
  {
   "cell_type": "markdown",
   "metadata": {},
   "source": [
    "## How to prepare for coding interviews"
   ]
  },
  {
   "cell_type": "markdown",
   "metadata": {},
   "source": [
    "Here is a simple guide on how to prepare - \n",
    "\n",
    "1) **Purchase a [leetcode subscription](https://leetcode.com/)** - This website is the only paid resource you need to prepare for coding interviews.\n",
    "\n",
    "2) **Getting started with [Leetcode learn](https://leetcode.com/explore/learn/)** - If you are like me who doesn't come from a CS degree then going through Leetcode learn cards is a good starting point. Here is the structure I followed-\n",
    "- Array \n",
    "- Linked List\n",
    "- Stack & Queue\n",
    "- Array & Strings \n",
    "- Binary Tree\n",
    "- Binary Search\n",
    "- Binary Search Tree\n",
    "- Heap\n",
    "- Graph \n",
    "- Sorting\n",
    "- Dynamic Programming \n",
    "\n",
    "3) **Following [Neetcode.io Roadmap](https://neetcode.io/roadmap)**- This roadmap contains 75 leetcode questions which will familiarize you with common coding patterns useful in coding interviews\n",
    "\n",
    "4) **[Solving company tagged questions](https://leetcode.com/company/facebook/?favoriteSlug=facebook-six-months)** - On leetcode.com you can filter for the company you are interviewing and see top tagged question for the same. I would recommend solving top 100 tagged questions based on frequency which are asked in last six months.\n",
    "\n",
    "5) **Practice** - Once you are done with the above then you can practice timed assessment on [leetcode.com]((https://leetcode.com/assessment/)) for your specific employer or generic ones if not listed. If you want more realistic practice then you can buy some mock interviews on [interviewing.io](https://interviewing.io/) where an engineer from top tech company will take your mock and provide feedback on your performance."
   ]
  },
  {
   "cell_type": "markdown",
   "metadata": {},
   "source": [
    ":::{.callout-tip collapse=\"false\"}\n",
    "1. The more you practice in conditions similar to the actual interview—such as using a text editor and working within timed constraints—the better you will perform\n",
    "2. When practicing, attempt to solve the problem on your own for 20-30 minutes before consulting the solution.\n",
    "3. If you find a problem challenging to understand, search for `[LeetCode Problem #XYZ]` on YouTube; you'll likely find a video with a clearer explanation.\n",
    "4. [Keeping an Excel sheet](https://1drv.ms/x/s!Auv3QGqB_NJSgqU4LhOUJtTcV44WjQ) to track the problems you’ve solved during practice, along with notes such as 'needs revision', time/space complexity and a brief summary of the solution, can be very helpful for review later. You can use this [Conding Tracking Sheet Tab](https://1drv.ms/x/s!Auv3QGqB_NJSgqU4LhOUJtTcV44WjQ) as a template.\n",
    ":::"
   ]
  },
  {
   "cell_type": "markdown",
   "metadata": {
    "ExecuteTime": {
     "end_time": "2024-08-24T21:34:33.672191Z",
     "start_time": "2024-08-24T21:34:33.670189Z"
    }
   },
   "source": [
    "# Machine learning System Design"
   ]
  },
  {
   "cell_type": "code",
   "execution_count": null,
   "metadata": {},
   "outputs": [],
   "source": []
  },
  {
   "cell_type": "markdown",
   "metadata": {},
   "source": [
    "# Behavioral Interviews"
   ]
  },
  {
   "cell_type": "code",
   "execution_count": null,
   "metadata": {},
   "outputs": [],
   "source": []
  },
  {
   "cell_type": "markdown",
   "metadata": {
    "ExecuteTime": {
     "end_time": "2024-08-24T19:36:43.347586Z",
     "start_time": "2024-08-24T19:36:43.345427Z"
    }
   },
   "source": [
    "# Conclusion"
   ]
  },
  {
   "cell_type": "markdown",
   "metadata": {},
   "source": [
    "Preparing for this was the most time-consuming part for me, especially since I don't come from a CS background. Even though I was working as an ML scientist at Microsoft, I had not encountered these types of problems in the real world. Nonetheless, mastering these concepts is essential for high-tech roles, so it’s worth investing the time to prepare thoroughly."
   ]
  },
  {
   "cell_type": "markdown",
   "metadata": {},
   "source": [
    "I hope you enjoyed reading it. If there is any feedback on the code or just the blog post, feel free to comment below or reach out on [LinkedIn](https://www.linkedin.com/in/aayushmnit/)."
   ]
  }
 ],
 "metadata": {
  "kernelspec": {
   "display_name": "Python 3",
   "language": "python",
   "name": "python3"
  },
  "language_info": {
   "codemirror_mode": {
    "name": "ipython",
    "version": 3
   },
   "file_extension": ".py",
   "mimetype": "text/x-python",
   "name": "python",
   "nbconvert_exporter": "python",
   "pygments_lexer": "ipython3",
   "version": "3.9.12"
  },
  "toc": {
   "base_numbering": 1,
   "nav_menu": {},
   "number_sections": true,
   "sideBar": true,
   "skip_h1_title": false,
   "title_cell": "Table of Contents",
   "title_sidebar": "Contents",
   "toc_cell": false,
   "toc_position": {
    "height": "991.804px",
    "left": "30px",
    "top": "88px",
    "width": "392px"
   },
   "toc_section_display": true,
   "toc_window_display": true
  },
  "varInspector": {
   "cols": {
    "lenName": 16,
    "lenType": 16,
    "lenVar": 40
   },
   "kernels_config": {
    "python": {
     "delete_cmd_postfix": "",
     "delete_cmd_prefix": "del ",
     "library": "var_list.py",
     "varRefreshCmd": "print(var_dic_list())"
    },
    "r": {
     "delete_cmd_postfix": ") ",
     "delete_cmd_prefix": "rm(",
     "library": "var_list.r",
     "varRefreshCmd": "cat(var_dic_list()) "
    }
   },
   "types_to_exclude": [
    "module",
    "function",
    "builtin_function_or_method",
    "instance",
    "_Feature"
   ],
   "window_display": false
  }
 },
 "nbformat": 4,
 "nbformat_minor": 4
}
